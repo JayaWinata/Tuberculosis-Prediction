{
 "cells": [
  {
   "cell_type": "code",
   "execution_count": 32,
   "id": "8e476d5c",
   "metadata": {},
   "outputs": [],
   "source": [
    "from sklearn.metrics import make_scorer, accuracy_score, confusion_matrix, classification_report, ConfusionMatrixDisplay\n",
    "from sklearn.model_selection import train_test_split, RandomizedSearchCV, StratifiedKFold\n",
    "from sklearn.linear_model import LogisticRegression\n",
    "from sklearn.ensemble import RandomForestClassifier\n",
    "from sklearn.svm import SVC\n",
    "import pandas as pd\n",
    "from sklearn.base import clone\n",
    "import matplotlib.pyplot as plt\n",
    "\n",
    "from mlflow.models import infer_signature\n",
    "from urllib.parse import urlparse\n",
    "import logging\n",
    "import mlflow"
   ]
  },
  {
   "cell_type": "markdown",
   "id": "fe458b4a",
   "metadata": {},
   "source": [
    "## Model Hyperparameter"
   ]
  },
  {
   "cell_type": "code",
   "execution_count": 33,
   "id": "26e518e4",
   "metadata": {},
   "outputs": [],
   "source": [
    "models = [\n",
    "    {\n",
    "        'model': LogisticRegression(),\n",
    "        'name': 'Logistic Regression',\n",
    "        'param_grid': {\n",
    "            'penalty': ['l1', 'l2', 'elasticnet', None],\n",
    "            'C': [0.01, 0.1, 1, 10, 100],\n",
    "            'solver': ['saga', 'liblinear'],\n",
    "            'max_iter': [100, 200, 500]\n",
    "        }\n",
    "    },\n",
    "    {\n",
    "        'model': SVC(probability=True),\n",
    "        'name': 'Support Vector Classifier',\n",
    "        'param_grid': dict()\n",
    "    },\n",
    "    {\n",
    "        'model': RandomForestClassifier(),\n",
    "        'name': 'Random Forest Classifier',\n",
    "        'param_grid': {\n",
    "            'n_estimators': [100, 200, 500],\n",
    "            'max_depth': [None, 5, 10, 20],\n",
    "            'min_samples_split': [2, 5, 10],\n",
    "            'min_samples_leaf': [1, 2, 4],\n",
    "            'bootstrap': [True, False]\n",
    "        }\n",
    "    }\n",
    "]"
   ]
  },
  {
   "cell_type": "code",
   "execution_count": 34,
   "id": "18b13660",
   "metadata": {},
   "outputs": [],
   "source": [
    "datasets = [\n",
    "    ['Label Encoding', pd.read_csv('../data/processed/data_v1.csv')],\n",
    "    ['One-hot Encoding', pd.read_csv('../data/processed/data_v2.csv')],\n",
    "    ['Label Encoding + MinMax Scaler', pd.read_csv('../data/processed/data_v3.csv')],\n",
    "    ['Label Encoding + Standard Scaler', pd.read_csv('../data/processed/data_v4.csv')],\n",
    "    ['One-hot Encoding + MinMax Scaler', pd.read_csv('../data/processed/data_v5.csv')],\n",
    "    ['One-hot Encoding + Standard Scaler', pd.read_csv('../data/processed/data_v6.csv')]\n",
    "]"
   ]
  },
  {
   "cell_type": "code",
   "execution_count": 35,
   "id": "1ea9b688",
   "metadata": {},
   "outputs": [],
   "source": [
    "# Initialize MLflow\n",
    "mlflow.set_experiment(\"Tuberculosis Prediction\")\n",
    "mlflow.set_tracking_uri(\"http://localhost:5000\")\n",
    "tracking_url_type_store=urlparse(mlflow.get_tracking_uri()).scheme"
   ]
  },
  {
   "cell_type": "code",
   "execution_count": 36,
   "id": "0b1ca796",
   "metadata": {},
   "outputs": [
    {
     "name": "stderr",
     "output_type": "stream",
     "text": [
      "d:\\My\\AboutData\\Project\\Tuberculosis-Prediction\\tbc_prediction_venv\\lib\\site-packages\\sklearn\\linear_model\\_sag.py:348: ConvergenceWarning: The max_iter was reached which means the coef_ did not converge\n",
      "  warnings.warn(\n",
      "d:\\My\\AboutData\\Project\\Tuberculosis-Prediction\\tbc_prediction_venv\\lib\\site-packages\\sklearn\\linear_model\\_sag.py:348: ConvergenceWarning: The max_iter was reached which means the coef_ did not converge\n",
      "  warnings.warn(\n",
      "d:\\My\\AboutData\\Project\\Tuberculosis-Prediction\\tbc_prediction_venv\\lib\\site-packages\\sklearn\\linear_model\\_sag.py:348: ConvergenceWarning: The max_iter was reached which means the coef_ did not converge\n",
      "  warnings.warn(\n",
      "d:\\My\\AboutData\\Project\\Tuberculosis-Prediction\\tbc_prediction_venv\\lib\\site-packages\\sklearn\\linear_model\\_sag.py:348: ConvergenceWarning: The max_iter was reached which means the coef_ did not converge\n",
      "  warnings.warn(\n",
      "d:\\My\\AboutData\\Project\\Tuberculosis-Prediction\\tbc_prediction_venv\\lib\\site-packages\\sklearn\\linear_model\\_sag.py:348: ConvergenceWarning: The max_iter was reached which means the coef_ did not converge\n",
      "  warnings.warn(\n",
      "d:\\My\\AboutData\\Project\\Tuberculosis-Prediction\\tbc_prediction_venv\\lib\\site-packages\\sklearn\\linear_model\\_sag.py:348: ConvergenceWarning: The max_iter was reached which means the coef_ did not converge\n",
      "  warnings.warn(\n",
      "d:\\My\\AboutData\\Project\\Tuberculosis-Prediction\\tbc_prediction_venv\\lib\\site-packages\\sklearn\\linear_model\\_sag.py:348: ConvergenceWarning: The max_iter was reached which means the coef_ did not converge\n",
      "  warnings.warn(\n",
      "d:\\My\\AboutData\\Project\\Tuberculosis-Prediction\\tbc_prediction_venv\\lib\\site-packages\\sklearn\\linear_model\\_sag.py:348: ConvergenceWarning: The max_iter was reached which means the coef_ did not converge\n",
      "  warnings.warn(\n",
      "d:\\My\\AboutData\\Project\\Tuberculosis-Prediction\\tbc_prediction_venv\\lib\\site-packages\\sklearn\\linear_model\\_sag.py:348: ConvergenceWarning: The max_iter was reached which means the coef_ did not converge\n",
      "  warnings.warn(\n",
      "d:\\My\\AboutData\\Project\\Tuberculosis-Prediction\\tbc_prediction_venv\\lib\\site-packages\\sklearn\\linear_model\\_sag.py:348: ConvergenceWarning: The max_iter was reached which means the coef_ did not converge\n",
      "  warnings.warn(\n",
      "d:\\My\\AboutData\\Project\\Tuberculosis-Prediction\\tbc_prediction_venv\\lib\\site-packages\\sklearn\\model_selection\\_validation.py:528: FitFailedWarning: \n",
      "20 fits failed out of a total of 50.\n",
      "The score on these train-test partitions for these parameters will be set to nan.\n",
      "If these failures are not expected, you can try to debug them by setting error_score='raise'.\n",
      "\n",
      "Below are more details about the failures:\n",
      "--------------------------------------------------------------------------------\n",
      "10 fits failed with the following error:\n",
      "Traceback (most recent call last):\n",
      "  File \"d:\\My\\AboutData\\Project\\Tuberculosis-Prediction\\tbc_prediction_venv\\lib\\site-packages\\sklearn\\model_selection\\_validation.py\", line 866, in _fit_and_score\n",
      "    estimator.fit(X_train, y_train, **fit_params)\n",
      "  File \"d:\\My\\AboutData\\Project\\Tuberculosis-Prediction\\tbc_prediction_venv\\lib\\site-packages\\sklearn\\base.py\", line 1389, in wrapper\n",
      "    return fit_method(estimator, *args, **kwargs)\n",
      "  File \"d:\\My\\AboutData\\Project\\Tuberculosis-Prediction\\tbc_prediction_venv\\lib\\site-packages\\sklearn\\linear_model\\_logistic.py\", line 1203, in fit\n",
      "    raise ValueError(\"l1_ratio must be specified when penalty is elasticnet.\")\n",
      "ValueError: l1_ratio must be specified when penalty is elasticnet.\n",
      "\n",
      "--------------------------------------------------------------------------------\n",
      "10 fits failed with the following error:\n",
      "Traceback (most recent call last):\n",
      "  File \"d:\\My\\AboutData\\Project\\Tuberculosis-Prediction\\tbc_prediction_venv\\lib\\site-packages\\sklearn\\model_selection\\_validation.py\", line 866, in _fit_and_score\n",
      "    estimator.fit(X_train, y_train, **fit_params)\n",
      "  File \"d:\\My\\AboutData\\Project\\Tuberculosis-Prediction\\tbc_prediction_venv\\lib\\site-packages\\sklearn\\base.py\", line 1389, in wrapper\n",
      "    return fit_method(estimator, *args, **kwargs)\n",
      "  File \"d:\\My\\AboutData\\Project\\Tuberculosis-Prediction\\tbc_prediction_venv\\lib\\site-packages\\sklearn\\linear_model\\_logistic.py\", line 1193, in fit\n",
      "    solver = _check_solver(self.solver, self.penalty, self.dual)\n",
      "  File \"d:\\My\\AboutData\\Project\\Tuberculosis-Prediction\\tbc_prediction_venv\\lib\\site-packages\\sklearn\\linear_model\\_logistic.py\", line 76, in _check_solver\n",
      "    raise ValueError(\"penalty=None is not supported for the liblinear solver\")\n",
      "ValueError: penalty=None is not supported for the liblinear solver\n",
      "\n",
      "  warnings.warn(some_fits_failed_message, FitFailedWarning)\n",
      "d:\\My\\AboutData\\Project\\Tuberculosis-Prediction\\tbc_prediction_venv\\lib\\site-packages\\sklearn\\model_selection\\_search.py:1108: UserWarning: One or more of the test scores are non-finite: [  nan   nan   nan   nan 0.706 0.706 0.706 0.706 0.706 0.706]\n",
      "  warnings.warn(\n",
      "d:\\My\\AboutData\\Project\\Tuberculosis-Prediction\\tbc_prediction_venv\\lib\\site-packages\\sklearn\\linear_model\\_sag.py:348: ConvergenceWarning: The max_iter was reached which means the coef_ did not converge\n",
      "  warnings.warn(\n",
      "d:\\My\\AboutData\\Project\\Tuberculosis-Prediction\\tbc_prediction_venv\\lib\\site-packages\\mlflow\\types\\utils.py:452: UserWarning: Hint: Inferred schema contains integer column(s). Integer columns in Python cannot represent missing values. If your input data contains missing values at inference time, it will be encoded as floats and will cause a schema enforcement error. The best way to avoid this problem is to infer the model schema based on a realistic data sample (training dataset) that includes missing values. Alternatively, you can declare integer columns as doubles (float64) whenever these columns may have missing values. See `Handling Integers With Missing Values <https://www.mlflow.org/docs/latest/models.html#handling-integers-with-missing-values>`_ for more details.\n",
      "  warnings.warn(\n",
      "d:\\My\\AboutData\\Project\\Tuberculosis-Prediction\\tbc_prediction_venv\\lib\\site-packages\\sklearn\\metrics\\_classification.py:1565: UndefinedMetricWarning: Precision is ill-defined and being set to 0.0 in labels with no predicted samples. Use `zero_division` parameter to control this behavior.\n",
      "  _warn_prf(average, modifier, f\"{metric.capitalize()} is\", len(result))\n",
      "d:\\My\\AboutData\\Project\\Tuberculosis-Prediction\\tbc_prediction_venv\\lib\\site-packages\\sklearn\\metrics\\_classification.py:1565: UndefinedMetricWarning: Precision is ill-defined and being set to 0.0 in labels with no predicted samples. Use `zero_division` parameter to control this behavior.\n",
      "  _warn_prf(average, modifier, f\"{metric.capitalize()} is\", len(result))\n",
      "d:\\My\\AboutData\\Project\\Tuberculosis-Prediction\\tbc_prediction_venv\\lib\\site-packages\\sklearn\\metrics\\_classification.py:1565: UndefinedMetricWarning: Precision is ill-defined and being set to 0.0 in labels with no predicted samples. Use `zero_division` parameter to control this behavior.\n",
      "  _warn_prf(average, modifier, f\"{metric.capitalize()} is\", len(result))\n",
      "2025/04/16 11:47:03 WARNING mlflow.models.model: Model logged without a signature and input example. Please set `input_example` parameter when logging the model to auto infer the model signature.\n",
      "Registered model 'Best Label Encoding + Logistic Regression' already exists. Creating a new version of this model...\n",
      "2025/04/16 11:47:03 INFO mlflow.store.model_registry.abstract_store: Waiting up to 300 seconds for model version to finish creation. Model name: Best Label Encoding + Logistic Regression, version 5\n",
      "Created version '5' of model 'Best Label Encoding + Logistic Regression'.\n",
      "d:\\My\\AboutData\\Project\\Tuberculosis-Prediction\\tbc_prediction_venv\\lib\\site-packages\\sklearn\\model_selection\\_search.py:317: UserWarning: The total space of parameters 1 is smaller than n_iter=10. Running 1 iterations. For exhaustive searches, use GridSearchCV.\n",
      "  warnings.warn(\n"
     ]
    },
    {
     "name": "stdout",
     "output_type": "stream",
     "text": [
      "🏃 View run Label Encoding + Logistic Regression at: http://localhost:5000/#/experiments/489304826085007307/runs/375d093eee074c648b6fbabb0abd2249\n",
      "🧪 View experiment at: http://localhost:5000/#/experiments/489304826085007307\n"
     ]
    },
    {
     "name": "stderr",
     "output_type": "stream",
     "text": [
      "d:\\My\\AboutData\\Project\\Tuberculosis-Prediction\\tbc_prediction_venv\\lib\\site-packages\\mlflow\\types\\utils.py:452: UserWarning: Hint: Inferred schema contains integer column(s). Integer columns in Python cannot represent missing values. If your input data contains missing values at inference time, it will be encoded as floats and will cause a schema enforcement error. The best way to avoid this problem is to infer the model schema based on a realistic data sample (training dataset) that includes missing values. Alternatively, you can declare integer columns as doubles (float64) whenever these columns may have missing values. See `Handling Integers With Missing Values <https://www.mlflow.org/docs/latest/models.html#handling-integers-with-missing-values>`_ for more details.\n",
      "  warnings.warn(\n",
      "d:\\My\\AboutData\\Project\\Tuberculosis-Prediction\\tbc_prediction_venv\\lib\\site-packages\\sklearn\\metrics\\_classification.py:1565: UndefinedMetricWarning: Precision is ill-defined and being set to 0.0 in labels with no predicted samples. Use `zero_division` parameter to control this behavior.\n",
      "  _warn_prf(average, modifier, f\"{metric.capitalize()} is\", len(result))\n",
      "d:\\My\\AboutData\\Project\\Tuberculosis-Prediction\\tbc_prediction_venv\\lib\\site-packages\\sklearn\\metrics\\_classification.py:1565: UndefinedMetricWarning: Precision is ill-defined and being set to 0.0 in labels with no predicted samples. Use `zero_division` parameter to control this behavior.\n",
      "  _warn_prf(average, modifier, f\"{metric.capitalize()} is\", len(result))\n",
      "d:\\My\\AboutData\\Project\\Tuberculosis-Prediction\\tbc_prediction_venv\\lib\\site-packages\\sklearn\\metrics\\_classification.py:1565: UndefinedMetricWarning: Precision is ill-defined and being set to 0.0 in labels with no predicted samples. Use `zero_division` parameter to control this behavior.\n",
      "  _warn_prf(average, modifier, f\"{metric.capitalize()} is\", len(result))\n",
      "2025/04/16 11:53:09 WARNING mlflow.models.model: Model logged without a signature and input example. Please set `input_example` parameter when logging the model to auto infer the model signature.\n",
      "Registered model 'Best Label Encoding + Support Vector Classifier' already exists. Creating a new version of this model...\n",
      "2025/04/16 11:53:09 INFO mlflow.store.model_registry.abstract_store: Waiting up to 300 seconds for model version to finish creation. Model name: Best Label Encoding + Support Vector Classifier, version 4\n",
      "Created version '4' of model 'Best Label Encoding + Support Vector Classifier'.\n"
     ]
    },
    {
     "name": "stdout",
     "output_type": "stream",
     "text": [
      "🏃 View run Label Encoding + Support Vector Classifier at: http://localhost:5000/#/experiments/489304826085007307/runs/8a61aac8107d4f56984a76ebd596e22d\n",
      "🧪 View experiment at: http://localhost:5000/#/experiments/489304826085007307\n"
     ]
    },
    {
     "name": "stderr",
     "output_type": "stream",
     "text": [
      "d:\\My\\AboutData\\Project\\Tuberculosis-Prediction\\tbc_prediction_venv\\lib\\site-packages\\mlflow\\types\\utils.py:452: UserWarning: Hint: Inferred schema contains integer column(s). Integer columns in Python cannot represent missing values. If your input data contains missing values at inference time, it will be encoded as floats and will cause a schema enforcement error. The best way to avoid this problem is to infer the model schema based on a realistic data sample (training dataset) that includes missing values. Alternatively, you can declare integer columns as doubles (float64) whenever these columns may have missing values. See `Handling Integers With Missing Values <https://www.mlflow.org/docs/latest/models.html#handling-integers-with-missing-values>`_ for more details.\n",
      "  warnings.warn(\n",
      "d:\\My\\AboutData\\Project\\Tuberculosis-Prediction\\tbc_prediction_venv\\lib\\site-packages\\sklearn\\metrics\\_classification.py:1565: UndefinedMetricWarning: Precision is ill-defined and being set to 0.0 in labels with no predicted samples. Use `zero_division` parameter to control this behavior.\n",
      "  _warn_prf(average, modifier, f\"{metric.capitalize()} is\", len(result))\n",
      "d:\\My\\AboutData\\Project\\Tuberculosis-Prediction\\tbc_prediction_venv\\lib\\site-packages\\sklearn\\metrics\\_classification.py:1565: UndefinedMetricWarning: Precision is ill-defined and being set to 0.0 in labels with no predicted samples. Use `zero_division` parameter to control this behavior.\n",
      "  _warn_prf(average, modifier, f\"{metric.capitalize()} is\", len(result))\n",
      "d:\\My\\AboutData\\Project\\Tuberculosis-Prediction\\tbc_prediction_venv\\lib\\site-packages\\sklearn\\metrics\\_classification.py:1565: UndefinedMetricWarning: Precision is ill-defined and being set to 0.0 in labels with no predicted samples. Use `zero_division` parameter to control this behavior.\n",
      "  _warn_prf(average, modifier, f\"{metric.capitalize()} is\", len(result))\n",
      "2025/04/16 11:55:29 WARNING mlflow.models.model: Model logged without a signature and input example. Please set `input_example` parameter when logging the model to auto infer the model signature.\n",
      "Registered model 'Best Label Encoding + Random Forest Classifier' already exists. Creating a new version of this model...\n",
      "2025/04/16 11:55:30 INFO mlflow.store.model_registry.abstract_store: Waiting up to 300 seconds for model version to finish creation. Model name: Best Label Encoding + Random Forest Classifier, version 4\n",
      "Created version '4' of model 'Best Label Encoding + Random Forest Classifier'.\n"
     ]
    },
    {
     "name": "stdout",
     "output_type": "stream",
     "text": [
      "🏃 View run Label Encoding + Random Forest Classifier at: http://localhost:5000/#/experiments/489304826085007307/runs/f2260f79ede04716be35a89e2bda31c9\n",
      "🧪 View experiment at: http://localhost:5000/#/experiments/489304826085007307\n"
     ]
    },
    {
     "name": "stderr",
     "output_type": "stream",
     "text": [
      "d:\\My\\AboutData\\Project\\Tuberculosis-Prediction\\tbc_prediction_venv\\lib\\site-packages\\sklearn\\linear_model\\_sag.py:348: ConvergenceWarning: The max_iter was reached which means the coef_ did not converge\n",
      "  warnings.warn(\n",
      "d:\\My\\AboutData\\Project\\Tuberculosis-Prediction\\tbc_prediction_venv\\lib\\site-packages\\sklearn\\linear_model\\_sag.py:348: ConvergenceWarning: The max_iter was reached which means the coef_ did not converge\n",
      "  warnings.warn(\n",
      "d:\\My\\AboutData\\Project\\Tuberculosis-Prediction\\tbc_prediction_venv\\lib\\site-packages\\sklearn\\linear_model\\_sag.py:348: ConvergenceWarning: The max_iter was reached which means the coef_ did not converge\n",
      "  warnings.warn(\n",
      "d:\\My\\AboutData\\Project\\Tuberculosis-Prediction\\tbc_prediction_venv\\lib\\site-packages\\sklearn\\linear_model\\_sag.py:348: ConvergenceWarning: The max_iter was reached which means the coef_ did not converge\n",
      "  warnings.warn(\n",
      "d:\\My\\AboutData\\Project\\Tuberculosis-Prediction\\tbc_prediction_venv\\lib\\site-packages\\sklearn\\linear_model\\_sag.py:348: ConvergenceWarning: The max_iter was reached which means the coef_ did not converge\n",
      "  warnings.warn(\n",
      "d:\\My\\AboutData\\Project\\Tuberculosis-Prediction\\tbc_prediction_venv\\lib\\site-packages\\sklearn\\linear_model\\_sag.py:348: ConvergenceWarning: The max_iter was reached which means the coef_ did not converge\n",
      "  warnings.warn(\n",
      "d:\\My\\AboutData\\Project\\Tuberculosis-Prediction\\tbc_prediction_venv\\lib\\site-packages\\sklearn\\linear_model\\_sag.py:348: ConvergenceWarning: The max_iter was reached which means the coef_ did not converge\n",
      "  warnings.warn(\n",
      "d:\\My\\AboutData\\Project\\Tuberculosis-Prediction\\tbc_prediction_venv\\lib\\site-packages\\sklearn\\linear_model\\_sag.py:348: ConvergenceWarning: The max_iter was reached which means the coef_ did not converge\n",
      "  warnings.warn(\n",
      "d:\\My\\AboutData\\Project\\Tuberculosis-Prediction\\tbc_prediction_venv\\lib\\site-packages\\sklearn\\linear_model\\_sag.py:348: ConvergenceWarning: The max_iter was reached which means the coef_ did not converge\n",
      "  warnings.warn(\n",
      "d:\\My\\AboutData\\Project\\Tuberculosis-Prediction\\tbc_prediction_venv\\lib\\site-packages\\sklearn\\linear_model\\_sag.py:348: ConvergenceWarning: The max_iter was reached which means the coef_ did not converge\n",
      "  warnings.warn(\n",
      "d:\\My\\AboutData\\Project\\Tuberculosis-Prediction\\tbc_prediction_venv\\lib\\site-packages\\sklearn\\linear_model\\_sag.py:348: ConvergenceWarning: The max_iter was reached which means the coef_ did not converge\n",
      "  warnings.warn(\n",
      "d:\\My\\AboutData\\Project\\Tuberculosis-Prediction\\tbc_prediction_venv\\lib\\site-packages\\sklearn\\linear_model\\_sag.py:348: ConvergenceWarning: The max_iter was reached which means the coef_ did not converge\n",
      "  warnings.warn(\n",
      "d:\\My\\AboutData\\Project\\Tuberculosis-Prediction\\tbc_prediction_venv\\lib\\site-packages\\sklearn\\linear_model\\_sag.py:348: ConvergenceWarning: The max_iter was reached which means the coef_ did not converge\n",
      "  warnings.warn(\n",
      "d:\\My\\AboutData\\Project\\Tuberculosis-Prediction\\tbc_prediction_venv\\lib\\site-packages\\sklearn\\linear_model\\_sag.py:348: ConvergenceWarning: The max_iter was reached which means the coef_ did not converge\n",
      "  warnings.warn(\n",
      "d:\\My\\AboutData\\Project\\Tuberculosis-Prediction\\tbc_prediction_venv\\lib\\site-packages\\sklearn\\linear_model\\_sag.py:348: ConvergenceWarning: The max_iter was reached which means the coef_ did not converge\n",
      "  warnings.warn(\n",
      "d:\\My\\AboutData\\Project\\Tuberculosis-Prediction\\tbc_prediction_venv\\lib\\site-packages\\sklearn\\model_selection\\_validation.py:528: FitFailedWarning: \n",
      "20 fits failed out of a total of 50.\n",
      "The score on these train-test partitions for these parameters will be set to nan.\n",
      "If these failures are not expected, you can try to debug them by setting error_score='raise'.\n",
      "\n",
      "Below are more details about the failures:\n",
      "--------------------------------------------------------------------------------\n",
      "10 fits failed with the following error:\n",
      "Traceback (most recent call last):\n",
      "  File \"d:\\My\\AboutData\\Project\\Tuberculosis-Prediction\\tbc_prediction_venv\\lib\\site-packages\\sklearn\\model_selection\\_validation.py\", line 866, in _fit_and_score\n",
      "    estimator.fit(X_train, y_train, **fit_params)\n",
      "  File \"d:\\My\\AboutData\\Project\\Tuberculosis-Prediction\\tbc_prediction_venv\\lib\\site-packages\\sklearn\\base.py\", line 1389, in wrapper\n",
      "    return fit_method(estimator, *args, **kwargs)\n",
      "  File \"d:\\My\\AboutData\\Project\\Tuberculosis-Prediction\\tbc_prediction_venv\\lib\\site-packages\\sklearn\\linear_model\\_logistic.py\", line 1203, in fit\n",
      "    raise ValueError(\"l1_ratio must be specified when penalty is elasticnet.\")\n",
      "ValueError: l1_ratio must be specified when penalty is elasticnet.\n",
      "\n",
      "--------------------------------------------------------------------------------\n",
      "10 fits failed with the following error:\n",
      "Traceback (most recent call last):\n",
      "  File \"d:\\My\\AboutData\\Project\\Tuberculosis-Prediction\\tbc_prediction_venv\\lib\\site-packages\\sklearn\\model_selection\\_validation.py\", line 866, in _fit_and_score\n",
      "    estimator.fit(X_train, y_train, **fit_params)\n",
      "  File \"d:\\My\\AboutData\\Project\\Tuberculosis-Prediction\\tbc_prediction_venv\\lib\\site-packages\\sklearn\\base.py\", line 1389, in wrapper\n",
      "    return fit_method(estimator, *args, **kwargs)\n",
      "  File \"d:\\My\\AboutData\\Project\\Tuberculosis-Prediction\\tbc_prediction_venv\\lib\\site-packages\\sklearn\\linear_model\\_logistic.py\", line 1193, in fit\n",
      "    solver = _check_solver(self.solver, self.penalty, self.dual)\n",
      "  File \"d:\\My\\AboutData\\Project\\Tuberculosis-Prediction\\tbc_prediction_venv\\lib\\site-packages\\sklearn\\linear_model\\_logistic.py\", line 76, in _check_solver\n",
      "    raise ValueError(\"penalty=None is not supported for the liblinear solver\")\n",
      "ValueError: penalty=None is not supported for the liblinear solver\n",
      "\n",
      "  warnings.warn(some_fits_failed_message, FitFailedWarning)\n",
      "d:\\My\\AboutData\\Project\\Tuberculosis-Prediction\\tbc_prediction_venv\\lib\\site-packages\\sklearn\\model_selection\\_search.py:1108: UserWarning: One or more of the test scores are non-finite: [  nan   nan   nan   nan 0.706 0.706 0.706 0.706 0.706 0.706]\n",
      "  warnings.warn(\n",
      "d:\\My\\AboutData\\Project\\Tuberculosis-Prediction\\tbc_prediction_venv\\lib\\site-packages\\sklearn\\linear_model\\_sag.py:348: ConvergenceWarning: The max_iter was reached which means the coef_ did not converge\n",
      "  warnings.warn(\n",
      "d:\\My\\AboutData\\Project\\Tuberculosis-Prediction\\tbc_prediction_venv\\lib\\site-packages\\mlflow\\types\\utils.py:452: UserWarning: Hint: Inferred schema contains integer column(s). Integer columns in Python cannot represent missing values. If your input data contains missing values at inference time, it will be encoded as floats and will cause a schema enforcement error. The best way to avoid this problem is to infer the model schema based on a realistic data sample (training dataset) that includes missing values. Alternatively, you can declare integer columns as doubles (float64) whenever these columns may have missing values. See `Handling Integers With Missing Values <https://www.mlflow.org/docs/latest/models.html#handling-integers-with-missing-values>`_ for more details.\n",
      "  warnings.warn(\n",
      "d:\\My\\AboutData\\Project\\Tuberculosis-Prediction\\tbc_prediction_venv\\lib\\site-packages\\sklearn\\metrics\\_classification.py:1565: UndefinedMetricWarning: Precision is ill-defined and being set to 0.0 in labels with no predicted samples. Use `zero_division` parameter to control this behavior.\n",
      "  _warn_prf(average, modifier, f\"{metric.capitalize()} is\", len(result))\n",
      "d:\\My\\AboutData\\Project\\Tuberculosis-Prediction\\tbc_prediction_venv\\lib\\site-packages\\sklearn\\metrics\\_classification.py:1565: UndefinedMetricWarning: Precision is ill-defined and being set to 0.0 in labels with no predicted samples. Use `zero_division` parameter to control this behavior.\n",
      "  _warn_prf(average, modifier, f\"{metric.capitalize()} is\", len(result))\n",
      "d:\\My\\AboutData\\Project\\Tuberculosis-Prediction\\tbc_prediction_venv\\lib\\site-packages\\sklearn\\metrics\\_classification.py:1565: UndefinedMetricWarning: Precision is ill-defined and being set to 0.0 in labels with no predicted samples. Use `zero_division` parameter to control this behavior.\n",
      "  _warn_prf(average, modifier, f\"{metric.capitalize()} is\", len(result))\n",
      "2025/04/16 11:56:16 WARNING mlflow.models.model: Model logged without a signature and input example. Please set `input_example` parameter when logging the model to auto infer the model signature.\n",
      "Registered model 'Best One-hot Encoding + Logistic Regression' already exists. Creating a new version of this model...\n",
      "2025/04/16 11:56:17 INFO mlflow.store.model_registry.abstract_store: Waiting up to 300 seconds for model version to finish creation. Model name: Best One-hot Encoding + Logistic Regression, version 4\n",
      "Created version '4' of model 'Best One-hot Encoding + Logistic Regression'.\n",
      "d:\\My\\AboutData\\Project\\Tuberculosis-Prediction\\tbc_prediction_venv\\lib\\site-packages\\sklearn\\model_selection\\_search.py:317: UserWarning: The total space of parameters 1 is smaller than n_iter=10. Running 1 iterations. For exhaustive searches, use GridSearchCV.\n",
      "  warnings.warn(\n"
     ]
    },
    {
     "name": "stdout",
     "output_type": "stream",
     "text": [
      "🏃 View run One-hot Encoding + Logistic Regression at: http://localhost:5000/#/experiments/489304826085007307/runs/a895f9faebcf45d889385df68ff74359\n",
      "🧪 View experiment at: http://localhost:5000/#/experiments/489304826085007307\n"
     ]
    },
    {
     "name": "stderr",
     "output_type": "stream",
     "text": [
      "d:\\My\\AboutData\\Project\\Tuberculosis-Prediction\\tbc_prediction_venv\\lib\\site-packages\\mlflow\\types\\utils.py:452: UserWarning: Hint: Inferred schema contains integer column(s). Integer columns in Python cannot represent missing values. If your input data contains missing values at inference time, it will be encoded as floats and will cause a schema enforcement error. The best way to avoid this problem is to infer the model schema based on a realistic data sample (training dataset) that includes missing values. Alternatively, you can declare integer columns as doubles (float64) whenever these columns may have missing values. See `Handling Integers With Missing Values <https://www.mlflow.org/docs/latest/models.html#handling-integers-with-missing-values>`_ for more details.\n",
      "  warnings.warn(\n",
      "d:\\My\\AboutData\\Project\\Tuberculosis-Prediction\\tbc_prediction_venv\\lib\\site-packages\\sklearn\\metrics\\_classification.py:1565: UndefinedMetricWarning: Precision is ill-defined and being set to 0.0 in labels with no predicted samples. Use `zero_division` parameter to control this behavior.\n",
      "  _warn_prf(average, modifier, f\"{metric.capitalize()} is\", len(result))\n",
      "d:\\My\\AboutData\\Project\\Tuberculosis-Prediction\\tbc_prediction_venv\\lib\\site-packages\\sklearn\\metrics\\_classification.py:1565: UndefinedMetricWarning: Precision is ill-defined and being set to 0.0 in labels with no predicted samples. Use `zero_division` parameter to control this behavior.\n",
      "  _warn_prf(average, modifier, f\"{metric.capitalize()} is\", len(result))\n",
      "d:\\My\\AboutData\\Project\\Tuberculosis-Prediction\\tbc_prediction_venv\\lib\\site-packages\\sklearn\\metrics\\_classification.py:1565: UndefinedMetricWarning: Precision is ill-defined and being set to 0.0 in labels with no predicted samples. Use `zero_division` parameter to control this behavior.\n",
      "  _warn_prf(average, modifier, f\"{metric.capitalize()} is\", len(result))\n",
      "2025/04/16 12:01:55 WARNING mlflow.models.model: Model logged without a signature and input example. Please set `input_example` parameter when logging the model to auto infer the model signature.\n",
      "Registered model 'Best One-hot Encoding + Support Vector Classifier' already exists. Creating a new version of this model...\n",
      "2025/04/16 12:01:56 INFO mlflow.store.model_registry.abstract_store: Waiting up to 300 seconds for model version to finish creation. Model name: Best One-hot Encoding + Support Vector Classifier, version 4\n",
      "Created version '4' of model 'Best One-hot Encoding + Support Vector Classifier'.\n"
     ]
    },
    {
     "name": "stdout",
     "output_type": "stream",
     "text": [
      "🏃 View run One-hot Encoding + Support Vector Classifier at: http://localhost:5000/#/experiments/489304826085007307/runs/849a4f8e72c14764b364ac680736b938\n",
      "🧪 View experiment at: http://localhost:5000/#/experiments/489304826085007307\n"
     ]
    },
    {
     "name": "stderr",
     "output_type": "stream",
     "text": [
      "d:\\My\\AboutData\\Project\\Tuberculosis-Prediction\\tbc_prediction_venv\\lib\\site-packages\\mlflow\\types\\utils.py:452: UserWarning: Hint: Inferred schema contains integer column(s). Integer columns in Python cannot represent missing values. If your input data contains missing values at inference time, it will be encoded as floats and will cause a schema enforcement error. The best way to avoid this problem is to infer the model schema based on a realistic data sample (training dataset) that includes missing values. Alternatively, you can declare integer columns as doubles (float64) whenever these columns may have missing values. See `Handling Integers With Missing Values <https://www.mlflow.org/docs/latest/models.html#handling-integers-with-missing-values>`_ for more details.\n",
      "  warnings.warn(\n",
      "d:\\My\\AboutData\\Project\\Tuberculosis-Prediction\\tbc_prediction_venv\\lib\\site-packages\\sklearn\\metrics\\_classification.py:1565: UndefinedMetricWarning: Precision is ill-defined and being set to 0.0 in labels with no predicted samples. Use `zero_division` parameter to control this behavior.\n",
      "  _warn_prf(average, modifier, f\"{metric.capitalize()} is\", len(result))\n",
      "d:\\My\\AboutData\\Project\\Tuberculosis-Prediction\\tbc_prediction_venv\\lib\\site-packages\\sklearn\\metrics\\_classification.py:1565: UndefinedMetricWarning: Precision is ill-defined and being set to 0.0 in labels with no predicted samples. Use `zero_division` parameter to control this behavior.\n",
      "  _warn_prf(average, modifier, f\"{metric.capitalize()} is\", len(result))\n",
      "d:\\My\\AboutData\\Project\\Tuberculosis-Prediction\\tbc_prediction_venv\\lib\\site-packages\\sklearn\\metrics\\_classification.py:1565: UndefinedMetricWarning: Precision is ill-defined and being set to 0.0 in labels with no predicted samples. Use `zero_division` parameter to control this behavior.\n",
      "  _warn_prf(average, modifier, f\"{metric.capitalize()} is\", len(result))\n",
      "2025/04/16 12:04:26 WARNING mlflow.models.model: Model logged without a signature and input example. Please set `input_example` parameter when logging the model to auto infer the model signature.\n",
      "Registered model 'Best One-hot Encoding + Random Forest Classifier' already exists. Creating a new version of this model...\n",
      "2025/04/16 12:04:27 INFO mlflow.store.model_registry.abstract_store: Waiting up to 300 seconds for model version to finish creation. Model name: Best One-hot Encoding + Random Forest Classifier, version 4\n",
      "Created version '4' of model 'Best One-hot Encoding + Random Forest Classifier'.\n"
     ]
    },
    {
     "name": "stdout",
     "output_type": "stream",
     "text": [
      "🏃 View run One-hot Encoding + Random Forest Classifier at: http://localhost:5000/#/experiments/489304826085007307/runs/c209c8f0670a4dcc8cce51a7bc763fcd\n",
      "🧪 View experiment at: http://localhost:5000/#/experiments/489304826085007307\n"
     ]
    },
    {
     "name": "stderr",
     "output_type": "stream",
     "text": [
      "d:\\My\\AboutData\\Project\\Tuberculosis-Prediction\\tbc_prediction_venv\\lib\\site-packages\\sklearn\\model_selection\\_validation.py:528: FitFailedWarning: \n",
      "20 fits failed out of a total of 50.\n",
      "The score on these train-test partitions for these parameters will be set to nan.\n",
      "If these failures are not expected, you can try to debug them by setting error_score='raise'.\n",
      "\n",
      "Below are more details about the failures:\n",
      "--------------------------------------------------------------------------------\n",
      "10 fits failed with the following error:\n",
      "Traceback (most recent call last):\n",
      "  File \"d:\\My\\AboutData\\Project\\Tuberculosis-Prediction\\tbc_prediction_venv\\lib\\site-packages\\sklearn\\model_selection\\_validation.py\", line 866, in _fit_and_score\n",
      "    estimator.fit(X_train, y_train, **fit_params)\n",
      "  File \"d:\\My\\AboutData\\Project\\Tuberculosis-Prediction\\tbc_prediction_venv\\lib\\site-packages\\sklearn\\base.py\", line 1389, in wrapper\n",
      "    return fit_method(estimator, *args, **kwargs)\n",
      "  File \"d:\\My\\AboutData\\Project\\Tuberculosis-Prediction\\tbc_prediction_venv\\lib\\site-packages\\sklearn\\linear_model\\_logistic.py\", line 1203, in fit\n",
      "    raise ValueError(\"l1_ratio must be specified when penalty is elasticnet.\")\n",
      "ValueError: l1_ratio must be specified when penalty is elasticnet.\n",
      "\n",
      "--------------------------------------------------------------------------------\n",
      "10 fits failed with the following error:\n",
      "Traceback (most recent call last):\n",
      "  File \"d:\\My\\AboutData\\Project\\Tuberculosis-Prediction\\tbc_prediction_venv\\lib\\site-packages\\sklearn\\model_selection\\_validation.py\", line 866, in _fit_and_score\n",
      "    estimator.fit(X_train, y_train, **fit_params)\n",
      "  File \"d:\\My\\AboutData\\Project\\Tuberculosis-Prediction\\tbc_prediction_venv\\lib\\site-packages\\sklearn\\base.py\", line 1389, in wrapper\n",
      "    return fit_method(estimator, *args, **kwargs)\n",
      "  File \"d:\\My\\AboutData\\Project\\Tuberculosis-Prediction\\tbc_prediction_venv\\lib\\site-packages\\sklearn\\linear_model\\_logistic.py\", line 1193, in fit\n",
      "    solver = _check_solver(self.solver, self.penalty, self.dual)\n",
      "  File \"d:\\My\\AboutData\\Project\\Tuberculosis-Prediction\\tbc_prediction_venv\\lib\\site-packages\\sklearn\\linear_model\\_logistic.py\", line 76, in _check_solver\n",
      "    raise ValueError(\"penalty=None is not supported for the liblinear solver\")\n",
      "ValueError: penalty=None is not supported for the liblinear solver\n",
      "\n",
      "  warnings.warn(some_fits_failed_message, FitFailedWarning)\n",
      "d:\\My\\AboutData\\Project\\Tuberculosis-Prediction\\tbc_prediction_venv\\lib\\site-packages\\sklearn\\model_selection\\_search.py:1108: UserWarning: One or more of the test scores are non-finite: [  nan   nan   nan   nan 0.706 0.706 0.706 0.706 0.706 0.706]\n",
      "  warnings.warn(\n",
      "d:\\My\\AboutData\\Project\\Tuberculosis-Prediction\\tbc_prediction_venv\\lib\\site-packages\\mlflow\\types\\utils.py:452: UserWarning: Hint: Inferred schema contains integer column(s). Integer columns in Python cannot represent missing values. If your input data contains missing values at inference time, it will be encoded as floats and will cause a schema enforcement error. The best way to avoid this problem is to infer the model schema based on a realistic data sample (training dataset) that includes missing values. Alternatively, you can declare integer columns as doubles (float64) whenever these columns may have missing values. See `Handling Integers With Missing Values <https://www.mlflow.org/docs/latest/models.html#handling-integers-with-missing-values>`_ for more details.\n",
      "  warnings.warn(\n",
      "d:\\My\\AboutData\\Project\\Tuberculosis-Prediction\\tbc_prediction_venv\\lib\\site-packages\\sklearn\\metrics\\_classification.py:1565: UndefinedMetricWarning: Precision is ill-defined and being set to 0.0 in labels with no predicted samples. Use `zero_division` parameter to control this behavior.\n",
      "  _warn_prf(average, modifier, f\"{metric.capitalize()} is\", len(result))\n",
      "d:\\My\\AboutData\\Project\\Tuberculosis-Prediction\\tbc_prediction_venv\\lib\\site-packages\\sklearn\\metrics\\_classification.py:1565: UndefinedMetricWarning: Precision is ill-defined and being set to 0.0 in labels with no predicted samples. Use `zero_division` parameter to control this behavior.\n",
      "  _warn_prf(average, modifier, f\"{metric.capitalize()} is\", len(result))\n",
      "d:\\My\\AboutData\\Project\\Tuberculosis-Prediction\\tbc_prediction_venv\\lib\\site-packages\\sklearn\\metrics\\_classification.py:1565: UndefinedMetricWarning: Precision is ill-defined and being set to 0.0 in labels with no predicted samples. Use `zero_division` parameter to control this behavior.\n",
      "  _warn_prf(average, modifier, f\"{metric.capitalize()} is\", len(result))\n",
      "2025/04/16 12:04:40 WARNING mlflow.models.model: Model logged without a signature and input example. Please set `input_example` parameter when logging the model to auto infer the model signature.\n",
      "Registered model 'Best Label Encoding + MinMax Scaler + Logistic Regression' already exists. Creating a new version of this model...\n",
      "2025/04/16 12:04:40 INFO mlflow.store.model_registry.abstract_store: Waiting up to 300 seconds for model version to finish creation. Model name: Best Label Encoding + MinMax Scaler + Logistic Regression, version 4\n",
      "Created version '4' of model 'Best Label Encoding + MinMax Scaler + Logistic Regression'.\n",
      "d:\\My\\AboutData\\Project\\Tuberculosis-Prediction\\tbc_prediction_venv\\lib\\site-packages\\sklearn\\model_selection\\_search.py:317: UserWarning: The total space of parameters 1 is smaller than n_iter=10. Running 1 iterations. For exhaustive searches, use GridSearchCV.\n",
      "  warnings.warn(\n"
     ]
    },
    {
     "name": "stdout",
     "output_type": "stream",
     "text": [
      "🏃 View run Label Encoding + MinMax Scaler + Logistic Regression at: http://localhost:5000/#/experiments/489304826085007307/runs/5928c30b66314f0dba802d07ec2b7978\n",
      "🧪 View experiment at: http://localhost:5000/#/experiments/489304826085007307\n"
     ]
    },
    {
     "name": "stderr",
     "output_type": "stream",
     "text": [
      "d:\\My\\AboutData\\Project\\Tuberculosis-Prediction\\tbc_prediction_venv\\lib\\site-packages\\mlflow\\types\\utils.py:452: UserWarning: Hint: Inferred schema contains integer column(s). Integer columns in Python cannot represent missing values. If your input data contains missing values at inference time, it will be encoded as floats and will cause a schema enforcement error. The best way to avoid this problem is to infer the model schema based on a realistic data sample (training dataset) that includes missing values. Alternatively, you can declare integer columns as doubles (float64) whenever these columns may have missing values. See `Handling Integers With Missing Values <https://www.mlflow.org/docs/latest/models.html#handling-integers-with-missing-values>`_ for more details.\n",
      "  warnings.warn(\n",
      "d:\\My\\AboutData\\Project\\Tuberculosis-Prediction\\tbc_prediction_venv\\lib\\site-packages\\sklearn\\metrics\\_classification.py:1565: UndefinedMetricWarning: Precision is ill-defined and being set to 0.0 in labels with no predicted samples. Use `zero_division` parameter to control this behavior.\n",
      "  _warn_prf(average, modifier, f\"{metric.capitalize()} is\", len(result))\n",
      "d:\\My\\AboutData\\Project\\Tuberculosis-Prediction\\tbc_prediction_venv\\lib\\site-packages\\sklearn\\metrics\\_classification.py:1565: UndefinedMetricWarning: Precision is ill-defined and being set to 0.0 in labels with no predicted samples. Use `zero_division` parameter to control this behavior.\n",
      "  _warn_prf(average, modifier, f\"{metric.capitalize()} is\", len(result))\n",
      "d:\\My\\AboutData\\Project\\Tuberculosis-Prediction\\tbc_prediction_venv\\lib\\site-packages\\sklearn\\metrics\\_classification.py:1565: UndefinedMetricWarning: Precision is ill-defined and being set to 0.0 in labels with no predicted samples. Use `zero_division` parameter to control this behavior.\n",
      "  _warn_prf(average, modifier, f\"{metric.capitalize()} is\", len(result))\n",
      "2025/04/16 12:13:10 WARNING mlflow.models.model: Model logged without a signature and input example. Please set `input_example` parameter when logging the model to auto infer the model signature.\n",
      "Registered model 'Best Label Encoding + MinMax Scaler + Support Vector Classifier' already exists. Creating a new version of this model...\n",
      "2025/04/16 12:13:10 INFO mlflow.store.model_registry.abstract_store: Waiting up to 300 seconds for model version to finish creation. Model name: Best Label Encoding + MinMax Scaler + Support Vector Classifier, version 4\n",
      "Created version '4' of model 'Best Label Encoding + MinMax Scaler + Support Vector Classifier'.\n"
     ]
    },
    {
     "name": "stdout",
     "output_type": "stream",
     "text": [
      "🏃 View run Label Encoding + MinMax Scaler + Support Vector Classifier at: http://localhost:5000/#/experiments/489304826085007307/runs/4d2e498c90d44366939a7e9b957fce2a\n",
      "🧪 View experiment at: http://localhost:5000/#/experiments/489304826085007307\n"
     ]
    },
    {
     "name": "stderr",
     "output_type": "stream",
     "text": [
      "d:\\My\\AboutData\\Project\\Tuberculosis-Prediction\\tbc_prediction_venv\\lib\\site-packages\\mlflow\\types\\utils.py:452: UserWarning: Hint: Inferred schema contains integer column(s). Integer columns in Python cannot represent missing values. If your input data contains missing values at inference time, it will be encoded as floats and will cause a schema enforcement error. The best way to avoid this problem is to infer the model schema based on a realistic data sample (training dataset) that includes missing values. Alternatively, you can declare integer columns as doubles (float64) whenever these columns may have missing values. See `Handling Integers With Missing Values <https://www.mlflow.org/docs/latest/models.html#handling-integers-with-missing-values>`_ for more details.\n",
      "  warnings.warn(\n",
      "d:\\My\\AboutData\\Project\\Tuberculosis-Prediction\\tbc_prediction_venv\\lib\\site-packages\\sklearn\\metrics\\_classification.py:1565: UndefinedMetricWarning: Precision is ill-defined and being set to 0.0 in labels with no predicted samples. Use `zero_division` parameter to control this behavior.\n",
      "  _warn_prf(average, modifier, f\"{metric.capitalize()} is\", len(result))\n",
      "d:\\My\\AboutData\\Project\\Tuberculosis-Prediction\\tbc_prediction_venv\\lib\\site-packages\\sklearn\\metrics\\_classification.py:1565: UndefinedMetricWarning: Precision is ill-defined and being set to 0.0 in labels with no predicted samples. Use `zero_division` parameter to control this behavior.\n",
      "  _warn_prf(average, modifier, f\"{metric.capitalize()} is\", len(result))\n",
      "d:\\My\\AboutData\\Project\\Tuberculosis-Prediction\\tbc_prediction_venv\\lib\\site-packages\\sklearn\\metrics\\_classification.py:1565: UndefinedMetricWarning: Precision is ill-defined and being set to 0.0 in labels with no predicted samples. Use `zero_division` parameter to control this behavior.\n",
      "  _warn_prf(average, modifier, f\"{metric.capitalize()} is\", len(result))\n",
      "2025/04/16 12:15:27 WARNING mlflow.models.model: Model logged without a signature and input example. Please set `input_example` parameter when logging the model to auto infer the model signature.\n",
      "Registered model 'Best Label Encoding + MinMax Scaler + Random Forest Classifier' already exists. Creating a new version of this model...\n",
      "2025/04/16 12:15:27 INFO mlflow.store.model_registry.abstract_store: Waiting up to 300 seconds for model version to finish creation. Model name: Best Label Encoding + MinMax Scaler + Random Forest Classifier, version 4\n",
      "Created version '4' of model 'Best Label Encoding + MinMax Scaler + Random Forest Classifier'.\n"
     ]
    },
    {
     "name": "stdout",
     "output_type": "stream",
     "text": [
      "🏃 View run Label Encoding + MinMax Scaler + Random Forest Classifier at: http://localhost:5000/#/experiments/489304826085007307/runs/8e88f08bf8064feaa7542579b05fa5cc\n",
      "🧪 View experiment at: http://localhost:5000/#/experiments/489304826085007307\n"
     ]
    },
    {
     "name": "stderr",
     "output_type": "stream",
     "text": [
      "d:\\My\\AboutData\\Project\\Tuberculosis-Prediction\\tbc_prediction_venv\\lib\\site-packages\\sklearn\\model_selection\\_validation.py:528: FitFailedWarning: \n",
      "20 fits failed out of a total of 50.\n",
      "The score on these train-test partitions for these parameters will be set to nan.\n",
      "If these failures are not expected, you can try to debug them by setting error_score='raise'.\n",
      "\n",
      "Below are more details about the failures:\n",
      "--------------------------------------------------------------------------------\n",
      "10 fits failed with the following error:\n",
      "Traceback (most recent call last):\n",
      "  File \"d:\\My\\AboutData\\Project\\Tuberculosis-Prediction\\tbc_prediction_venv\\lib\\site-packages\\sklearn\\model_selection\\_validation.py\", line 866, in _fit_and_score\n",
      "    estimator.fit(X_train, y_train, **fit_params)\n",
      "  File \"d:\\My\\AboutData\\Project\\Tuberculosis-Prediction\\tbc_prediction_venv\\lib\\site-packages\\sklearn\\base.py\", line 1389, in wrapper\n",
      "    return fit_method(estimator, *args, **kwargs)\n",
      "  File \"d:\\My\\AboutData\\Project\\Tuberculosis-Prediction\\tbc_prediction_venv\\lib\\site-packages\\sklearn\\linear_model\\_logistic.py\", line 1203, in fit\n",
      "    raise ValueError(\"l1_ratio must be specified when penalty is elasticnet.\")\n",
      "ValueError: l1_ratio must be specified when penalty is elasticnet.\n",
      "\n",
      "--------------------------------------------------------------------------------\n",
      "10 fits failed with the following error:\n",
      "Traceback (most recent call last):\n",
      "  File \"d:\\My\\AboutData\\Project\\Tuberculosis-Prediction\\tbc_prediction_venv\\lib\\site-packages\\sklearn\\model_selection\\_validation.py\", line 866, in _fit_and_score\n",
      "    estimator.fit(X_train, y_train, **fit_params)\n",
      "  File \"d:\\My\\AboutData\\Project\\Tuberculosis-Prediction\\tbc_prediction_venv\\lib\\site-packages\\sklearn\\base.py\", line 1389, in wrapper\n",
      "    return fit_method(estimator, *args, **kwargs)\n",
      "  File \"d:\\My\\AboutData\\Project\\Tuberculosis-Prediction\\tbc_prediction_venv\\lib\\site-packages\\sklearn\\linear_model\\_logistic.py\", line 1193, in fit\n",
      "    solver = _check_solver(self.solver, self.penalty, self.dual)\n",
      "  File \"d:\\My\\AboutData\\Project\\Tuberculosis-Prediction\\tbc_prediction_venv\\lib\\site-packages\\sklearn\\linear_model\\_logistic.py\", line 76, in _check_solver\n",
      "    raise ValueError(\"penalty=None is not supported for the liblinear solver\")\n",
      "ValueError: penalty=None is not supported for the liblinear solver\n",
      "\n",
      "  warnings.warn(some_fits_failed_message, FitFailedWarning)\n",
      "d:\\My\\AboutData\\Project\\Tuberculosis-Prediction\\tbc_prediction_venv\\lib\\site-packages\\sklearn\\model_selection\\_search.py:1108: UserWarning: One or more of the test scores are non-finite: [  nan   nan   nan   nan 0.706 0.706 0.706 0.706 0.706 0.706]\n",
      "  warnings.warn(\n",
      "d:\\My\\AboutData\\Project\\Tuberculosis-Prediction\\tbc_prediction_venv\\lib\\site-packages\\mlflow\\types\\utils.py:452: UserWarning: Hint: Inferred schema contains integer column(s). Integer columns in Python cannot represent missing values. If your input data contains missing values at inference time, it will be encoded as floats and will cause a schema enforcement error. The best way to avoid this problem is to infer the model schema based on a realistic data sample (training dataset) that includes missing values. Alternatively, you can declare integer columns as doubles (float64) whenever these columns may have missing values. See `Handling Integers With Missing Values <https://www.mlflow.org/docs/latest/models.html#handling-integers-with-missing-values>`_ for more details.\n",
      "  warnings.warn(\n",
      "d:\\My\\AboutData\\Project\\Tuberculosis-Prediction\\tbc_prediction_venv\\lib\\site-packages\\sklearn\\metrics\\_classification.py:1565: UndefinedMetricWarning: Precision is ill-defined and being set to 0.0 in labels with no predicted samples. Use `zero_division` parameter to control this behavior.\n",
      "  _warn_prf(average, modifier, f\"{metric.capitalize()} is\", len(result))\n",
      "d:\\My\\AboutData\\Project\\Tuberculosis-Prediction\\tbc_prediction_venv\\lib\\site-packages\\sklearn\\metrics\\_classification.py:1565: UndefinedMetricWarning: Precision is ill-defined and being set to 0.0 in labels with no predicted samples. Use `zero_division` parameter to control this behavior.\n",
      "  _warn_prf(average, modifier, f\"{metric.capitalize()} is\", len(result))\n",
      "d:\\My\\AboutData\\Project\\Tuberculosis-Prediction\\tbc_prediction_venv\\lib\\site-packages\\sklearn\\metrics\\_classification.py:1565: UndefinedMetricWarning: Precision is ill-defined and being set to 0.0 in labels with no predicted samples. Use `zero_division` parameter to control this behavior.\n",
      "  _warn_prf(average, modifier, f\"{metric.capitalize()} is\", len(result))\n",
      "2025/04/16 12:15:40 WARNING mlflow.models.model: Model logged without a signature and input example. Please set `input_example` parameter when logging the model to auto infer the model signature.\n",
      "Registered model 'Best Label Encoding + Standard Scaler + Logistic Regression' already exists. Creating a new version of this model...\n",
      "2025/04/16 12:15:40 INFO mlflow.store.model_registry.abstract_store: Waiting up to 300 seconds for model version to finish creation. Model name: Best Label Encoding + Standard Scaler + Logistic Regression, version 4\n",
      "Created version '4' of model 'Best Label Encoding + Standard Scaler + Logistic Regression'.\n",
      "d:\\My\\AboutData\\Project\\Tuberculosis-Prediction\\tbc_prediction_venv\\lib\\site-packages\\sklearn\\model_selection\\_search.py:317: UserWarning: The total space of parameters 1 is smaller than n_iter=10. Running 1 iterations. For exhaustive searches, use GridSearchCV.\n",
      "  warnings.warn(\n"
     ]
    },
    {
     "name": "stdout",
     "output_type": "stream",
     "text": [
      "🏃 View run Label Encoding + Standard Scaler + Logistic Regression at: http://localhost:5000/#/experiments/489304826085007307/runs/a47792f64a5445ec94f45a49e75c514f\n",
      "🧪 View experiment at: http://localhost:5000/#/experiments/489304826085007307\n"
     ]
    },
    {
     "name": "stderr",
     "output_type": "stream",
     "text": [
      "d:\\My\\AboutData\\Project\\Tuberculosis-Prediction\\tbc_prediction_venv\\lib\\site-packages\\mlflow\\types\\utils.py:452: UserWarning: Hint: Inferred schema contains integer column(s). Integer columns in Python cannot represent missing values. If your input data contains missing values at inference time, it will be encoded as floats and will cause a schema enforcement error. The best way to avoid this problem is to infer the model schema based on a realistic data sample (training dataset) that includes missing values. Alternatively, you can declare integer columns as doubles (float64) whenever these columns may have missing values. See `Handling Integers With Missing Values <https://www.mlflow.org/docs/latest/models.html#handling-integers-with-missing-values>`_ for more details.\n",
      "  warnings.warn(\n",
      "d:\\My\\AboutData\\Project\\Tuberculosis-Prediction\\tbc_prediction_venv\\lib\\site-packages\\sklearn\\metrics\\_classification.py:1565: UndefinedMetricWarning: Precision is ill-defined and being set to 0.0 in labels with no predicted samples. Use `zero_division` parameter to control this behavior.\n",
      "  _warn_prf(average, modifier, f\"{metric.capitalize()} is\", len(result))\n",
      "d:\\My\\AboutData\\Project\\Tuberculosis-Prediction\\tbc_prediction_venv\\lib\\site-packages\\sklearn\\metrics\\_classification.py:1565: UndefinedMetricWarning: Precision is ill-defined and being set to 0.0 in labels with no predicted samples. Use `zero_division` parameter to control this behavior.\n",
      "  _warn_prf(average, modifier, f\"{metric.capitalize()} is\", len(result))\n",
      "d:\\My\\AboutData\\Project\\Tuberculosis-Prediction\\tbc_prediction_venv\\lib\\site-packages\\sklearn\\metrics\\_classification.py:1565: UndefinedMetricWarning: Precision is ill-defined and being set to 0.0 in labels with no predicted samples. Use `zero_division` parameter to control this behavior.\n",
      "  _warn_prf(average, modifier, f\"{metric.capitalize()} is\", len(result))\n",
      "2025/04/16 12:23:20 WARNING mlflow.models.model: Model logged without a signature and input example. Please set `input_example` parameter when logging the model to auto infer the model signature.\n",
      "Registered model 'Best Label Encoding + Standard Scaler + Support Vector Classifier' already exists. Creating a new version of this model...\n",
      "2025/04/16 12:23:20 INFO mlflow.store.model_registry.abstract_store: Waiting up to 300 seconds for model version to finish creation. Model name: Best Label Encoding + Standard Scaler + Support Vector Classifier, version 4\n",
      "Created version '4' of model 'Best Label Encoding + Standard Scaler + Support Vector Classifier'.\n"
     ]
    },
    {
     "name": "stdout",
     "output_type": "stream",
     "text": [
      "🏃 View run Label Encoding + Standard Scaler + Support Vector Classifier at: http://localhost:5000/#/experiments/489304826085007307/runs/d9abdccc8e964508b5613ccd980b69b3\n",
      "🧪 View experiment at: http://localhost:5000/#/experiments/489304826085007307\n"
     ]
    },
    {
     "name": "stderr",
     "output_type": "stream",
     "text": [
      "d:\\My\\AboutData\\Project\\Tuberculosis-Prediction\\tbc_prediction_venv\\lib\\site-packages\\mlflow\\types\\utils.py:452: UserWarning: Hint: Inferred schema contains integer column(s). Integer columns in Python cannot represent missing values. If your input data contains missing values at inference time, it will be encoded as floats and will cause a schema enforcement error. The best way to avoid this problem is to infer the model schema based on a realistic data sample (training dataset) that includes missing values. Alternatively, you can declare integer columns as doubles (float64) whenever these columns may have missing values. See `Handling Integers With Missing Values <https://www.mlflow.org/docs/latest/models.html#handling-integers-with-missing-values>`_ for more details.\n",
      "  warnings.warn(\n",
      "d:\\My\\AboutData\\Project\\Tuberculosis-Prediction\\tbc_prediction_venv\\lib\\site-packages\\sklearn\\metrics\\_classification.py:1565: UndefinedMetricWarning: Precision is ill-defined and being set to 0.0 in labels with no predicted samples. Use `zero_division` parameter to control this behavior.\n",
      "  _warn_prf(average, modifier, f\"{metric.capitalize()} is\", len(result))\n",
      "d:\\My\\AboutData\\Project\\Tuberculosis-Prediction\\tbc_prediction_venv\\lib\\site-packages\\sklearn\\metrics\\_classification.py:1565: UndefinedMetricWarning: Precision is ill-defined and being set to 0.0 in labels with no predicted samples. Use `zero_division` parameter to control this behavior.\n",
      "  _warn_prf(average, modifier, f\"{metric.capitalize()} is\", len(result))\n",
      "d:\\My\\AboutData\\Project\\Tuberculosis-Prediction\\tbc_prediction_venv\\lib\\site-packages\\sklearn\\metrics\\_classification.py:1565: UndefinedMetricWarning: Precision is ill-defined and being set to 0.0 in labels with no predicted samples. Use `zero_division` parameter to control this behavior.\n",
      "  _warn_prf(average, modifier, f\"{metric.capitalize()} is\", len(result))\n",
      "2025/04/16 12:25:15 WARNING mlflow.models.model: Model logged without a signature and input example. Please set `input_example` parameter when logging the model to auto infer the model signature.\n",
      "Registered model 'Best Label Encoding + Standard Scaler + Random Forest Classifier' already exists. Creating a new version of this model...\n",
      "2025/04/16 12:25:15 INFO mlflow.store.model_registry.abstract_store: Waiting up to 300 seconds for model version to finish creation. Model name: Best Label Encoding + Standard Scaler + Random Forest Classifier, version 4\n",
      "Created version '4' of model 'Best Label Encoding + Standard Scaler + Random Forest Classifier'.\n"
     ]
    },
    {
     "name": "stdout",
     "output_type": "stream",
     "text": [
      "🏃 View run Label Encoding + Standard Scaler + Random Forest Classifier at: http://localhost:5000/#/experiments/489304826085007307/runs/c3b22fb38e0a48209712125d4781e41f\n",
      "🧪 View experiment at: http://localhost:5000/#/experiments/489304826085007307\n"
     ]
    },
    {
     "name": "stderr",
     "output_type": "stream",
     "text": [
      "d:\\My\\AboutData\\Project\\Tuberculosis-Prediction\\tbc_prediction_venv\\lib\\site-packages\\sklearn\\model_selection\\_validation.py:528: FitFailedWarning: \n",
      "20 fits failed out of a total of 50.\n",
      "The score on these train-test partitions for these parameters will be set to nan.\n",
      "If these failures are not expected, you can try to debug them by setting error_score='raise'.\n",
      "\n",
      "Below are more details about the failures:\n",
      "--------------------------------------------------------------------------------\n",
      "10 fits failed with the following error:\n",
      "Traceback (most recent call last):\n",
      "  File \"d:\\My\\AboutData\\Project\\Tuberculosis-Prediction\\tbc_prediction_venv\\lib\\site-packages\\sklearn\\model_selection\\_validation.py\", line 866, in _fit_and_score\n",
      "    estimator.fit(X_train, y_train, **fit_params)\n",
      "  File \"d:\\My\\AboutData\\Project\\Tuberculosis-Prediction\\tbc_prediction_venv\\lib\\site-packages\\sklearn\\base.py\", line 1389, in wrapper\n",
      "    return fit_method(estimator, *args, **kwargs)\n",
      "  File \"d:\\My\\AboutData\\Project\\Tuberculosis-Prediction\\tbc_prediction_venv\\lib\\site-packages\\sklearn\\linear_model\\_logistic.py\", line 1203, in fit\n",
      "    raise ValueError(\"l1_ratio must be specified when penalty is elasticnet.\")\n",
      "ValueError: l1_ratio must be specified when penalty is elasticnet.\n",
      "\n",
      "--------------------------------------------------------------------------------\n",
      "10 fits failed with the following error:\n",
      "Traceback (most recent call last):\n",
      "  File \"d:\\My\\AboutData\\Project\\Tuberculosis-Prediction\\tbc_prediction_venv\\lib\\site-packages\\sklearn\\model_selection\\_validation.py\", line 866, in _fit_and_score\n",
      "    estimator.fit(X_train, y_train, **fit_params)\n",
      "  File \"d:\\My\\AboutData\\Project\\Tuberculosis-Prediction\\tbc_prediction_venv\\lib\\site-packages\\sklearn\\base.py\", line 1389, in wrapper\n",
      "    return fit_method(estimator, *args, **kwargs)\n",
      "  File \"d:\\My\\AboutData\\Project\\Tuberculosis-Prediction\\tbc_prediction_venv\\lib\\site-packages\\sklearn\\linear_model\\_logistic.py\", line 1193, in fit\n",
      "    solver = _check_solver(self.solver, self.penalty, self.dual)\n",
      "  File \"d:\\My\\AboutData\\Project\\Tuberculosis-Prediction\\tbc_prediction_venv\\lib\\site-packages\\sklearn\\linear_model\\_logistic.py\", line 76, in _check_solver\n",
      "    raise ValueError(\"penalty=None is not supported for the liblinear solver\")\n",
      "ValueError: penalty=None is not supported for the liblinear solver\n",
      "\n",
      "  warnings.warn(some_fits_failed_message, FitFailedWarning)\n",
      "d:\\My\\AboutData\\Project\\Tuberculosis-Prediction\\tbc_prediction_venv\\lib\\site-packages\\sklearn\\model_selection\\_search.py:1108: UserWarning: One or more of the test scores are non-finite: [  nan   nan   nan   nan 0.706 0.706 0.706 0.706 0.706 0.706]\n",
      "  warnings.warn(\n",
      "d:\\My\\AboutData\\Project\\Tuberculosis-Prediction\\tbc_prediction_venv\\lib\\site-packages\\mlflow\\types\\utils.py:452: UserWarning: Hint: Inferred schema contains integer column(s). Integer columns in Python cannot represent missing values. If your input data contains missing values at inference time, it will be encoded as floats and will cause a schema enforcement error. The best way to avoid this problem is to infer the model schema based on a realistic data sample (training dataset) that includes missing values. Alternatively, you can declare integer columns as doubles (float64) whenever these columns may have missing values. See `Handling Integers With Missing Values <https://www.mlflow.org/docs/latest/models.html#handling-integers-with-missing-values>`_ for more details.\n",
      "  warnings.warn(\n",
      "d:\\My\\AboutData\\Project\\Tuberculosis-Prediction\\tbc_prediction_venv\\lib\\site-packages\\sklearn\\metrics\\_classification.py:1565: UndefinedMetricWarning: Precision is ill-defined and being set to 0.0 in labels with no predicted samples. Use `zero_division` parameter to control this behavior.\n",
      "  _warn_prf(average, modifier, f\"{metric.capitalize()} is\", len(result))\n",
      "d:\\My\\AboutData\\Project\\Tuberculosis-Prediction\\tbc_prediction_venv\\lib\\site-packages\\sklearn\\metrics\\_classification.py:1565: UndefinedMetricWarning: Precision is ill-defined and being set to 0.0 in labels with no predicted samples. Use `zero_division` parameter to control this behavior.\n",
      "  _warn_prf(average, modifier, f\"{metric.capitalize()} is\", len(result))\n",
      "d:\\My\\AboutData\\Project\\Tuberculosis-Prediction\\tbc_prediction_venv\\lib\\site-packages\\sklearn\\metrics\\_classification.py:1565: UndefinedMetricWarning: Precision is ill-defined and being set to 0.0 in labels with no predicted samples. Use `zero_division` parameter to control this behavior.\n",
      "  _warn_prf(average, modifier, f\"{metric.capitalize()} is\", len(result))\n",
      "2025/04/16 12:25:28 WARNING mlflow.models.model: Model logged without a signature and input example. Please set `input_example` parameter when logging the model to auto infer the model signature.\n",
      "Registered model 'Best One-hot Encoding + MinMax Scaler + Logistic Regression' already exists. Creating a new version of this model...\n",
      "2025/04/16 12:25:28 INFO mlflow.store.model_registry.abstract_store: Waiting up to 300 seconds for model version to finish creation. Model name: Best One-hot Encoding + MinMax Scaler + Logistic Regression, version 4\n",
      "Created version '4' of model 'Best One-hot Encoding + MinMax Scaler + Logistic Regression'.\n",
      "d:\\My\\AboutData\\Project\\Tuberculosis-Prediction\\tbc_prediction_venv\\lib\\site-packages\\sklearn\\model_selection\\_search.py:317: UserWarning: The total space of parameters 1 is smaller than n_iter=10. Running 1 iterations. For exhaustive searches, use GridSearchCV.\n",
      "  warnings.warn(\n"
     ]
    },
    {
     "name": "stdout",
     "output_type": "stream",
     "text": [
      "🏃 View run One-hot Encoding + MinMax Scaler + Logistic Regression at: http://localhost:5000/#/experiments/489304826085007307/runs/1f2ae814eec24c3c9f1fc11fc6d41979\n",
      "🧪 View experiment at: http://localhost:5000/#/experiments/489304826085007307\n"
     ]
    },
    {
     "name": "stderr",
     "output_type": "stream",
     "text": [
      "d:\\My\\AboutData\\Project\\Tuberculosis-Prediction\\tbc_prediction_venv\\lib\\site-packages\\mlflow\\types\\utils.py:452: UserWarning: Hint: Inferred schema contains integer column(s). Integer columns in Python cannot represent missing values. If your input data contains missing values at inference time, it will be encoded as floats and will cause a schema enforcement error. The best way to avoid this problem is to infer the model schema based on a realistic data sample (training dataset) that includes missing values. Alternatively, you can declare integer columns as doubles (float64) whenever these columns may have missing values. See `Handling Integers With Missing Values <https://www.mlflow.org/docs/latest/models.html#handling-integers-with-missing-values>`_ for more details.\n",
      "  warnings.warn(\n",
      "d:\\My\\AboutData\\Project\\Tuberculosis-Prediction\\tbc_prediction_venv\\lib\\site-packages\\sklearn\\metrics\\_classification.py:1565: UndefinedMetricWarning: Precision is ill-defined and being set to 0.0 in labels with no predicted samples. Use `zero_division` parameter to control this behavior.\n",
      "  _warn_prf(average, modifier, f\"{metric.capitalize()} is\", len(result))\n",
      "d:\\My\\AboutData\\Project\\Tuberculosis-Prediction\\tbc_prediction_venv\\lib\\site-packages\\sklearn\\metrics\\_classification.py:1565: UndefinedMetricWarning: Precision is ill-defined and being set to 0.0 in labels with no predicted samples. Use `zero_division` parameter to control this behavior.\n",
      "  _warn_prf(average, modifier, f\"{metric.capitalize()} is\", len(result))\n",
      "d:\\My\\AboutData\\Project\\Tuberculosis-Prediction\\tbc_prediction_venv\\lib\\site-packages\\sklearn\\metrics\\_classification.py:1565: UndefinedMetricWarning: Precision is ill-defined and being set to 0.0 in labels with no predicted samples. Use `zero_division` parameter to control this behavior.\n",
      "  _warn_prf(average, modifier, f\"{metric.capitalize()} is\", len(result))\n",
      "2025/04/16 12:32:24 WARNING mlflow.models.model: Model logged without a signature and input example. Please set `input_example` parameter when logging the model to auto infer the model signature.\n",
      "Registered model 'Best One-hot Encoding + MinMax Scaler + Support Vector Classifier' already exists. Creating a new version of this model...\n",
      "2025/04/16 12:32:24 INFO mlflow.store.model_registry.abstract_store: Waiting up to 300 seconds for model version to finish creation. Model name: Best One-hot Encoding + MinMax Scaler + Support Vector Classifier, version 4\n",
      "Created version '4' of model 'Best One-hot Encoding + MinMax Scaler + Support Vector Classifier'.\n"
     ]
    },
    {
     "name": "stdout",
     "output_type": "stream",
     "text": [
      "🏃 View run One-hot Encoding + MinMax Scaler + Support Vector Classifier at: http://localhost:5000/#/experiments/489304826085007307/runs/45c82ac216e7425e976d1820a68af928\n",
      "🧪 View experiment at: http://localhost:5000/#/experiments/489304826085007307\n"
     ]
    },
    {
     "name": "stderr",
     "output_type": "stream",
     "text": [
      "d:\\My\\AboutData\\Project\\Tuberculosis-Prediction\\tbc_prediction_venv\\lib\\site-packages\\mlflow\\types\\utils.py:452: UserWarning: Hint: Inferred schema contains integer column(s). Integer columns in Python cannot represent missing values. If your input data contains missing values at inference time, it will be encoded as floats and will cause a schema enforcement error. The best way to avoid this problem is to infer the model schema based on a realistic data sample (training dataset) that includes missing values. Alternatively, you can declare integer columns as doubles (float64) whenever these columns may have missing values. See `Handling Integers With Missing Values <https://www.mlflow.org/docs/latest/models.html#handling-integers-with-missing-values>`_ for more details.\n",
      "  warnings.warn(\n",
      "d:\\My\\AboutData\\Project\\Tuberculosis-Prediction\\tbc_prediction_venv\\lib\\site-packages\\sklearn\\metrics\\_classification.py:1565: UndefinedMetricWarning: Precision is ill-defined and being set to 0.0 in labels with no predicted samples. Use `zero_division` parameter to control this behavior.\n",
      "  _warn_prf(average, modifier, f\"{metric.capitalize()} is\", len(result))\n",
      "d:\\My\\AboutData\\Project\\Tuberculosis-Prediction\\tbc_prediction_venv\\lib\\site-packages\\sklearn\\metrics\\_classification.py:1565: UndefinedMetricWarning: Precision is ill-defined and being set to 0.0 in labels with no predicted samples. Use `zero_division` parameter to control this behavior.\n",
      "  _warn_prf(average, modifier, f\"{metric.capitalize()} is\", len(result))\n",
      "d:\\My\\AboutData\\Project\\Tuberculosis-Prediction\\tbc_prediction_venv\\lib\\site-packages\\sklearn\\metrics\\_classification.py:1565: UndefinedMetricWarning: Precision is ill-defined and being set to 0.0 in labels with no predicted samples. Use `zero_division` parameter to control this behavior.\n",
      "  _warn_prf(average, modifier, f\"{metric.capitalize()} is\", len(result))\n",
      "2025/04/16 12:34:12 WARNING mlflow.models.model: Model logged without a signature and input example. Please set `input_example` parameter when logging the model to auto infer the model signature.\n",
      "Registered model 'Best One-hot Encoding + MinMax Scaler + Random Forest Classifier' already exists. Creating a new version of this model...\n",
      "2025/04/16 12:34:13 INFO mlflow.store.model_registry.abstract_store: Waiting up to 300 seconds for model version to finish creation. Model name: Best One-hot Encoding + MinMax Scaler + Random Forest Classifier, version 4\n",
      "Created version '4' of model 'Best One-hot Encoding + MinMax Scaler + Random Forest Classifier'.\n"
     ]
    },
    {
     "name": "stdout",
     "output_type": "stream",
     "text": [
      "🏃 View run One-hot Encoding + MinMax Scaler + Random Forest Classifier at: http://localhost:5000/#/experiments/489304826085007307/runs/74034bbb615b464f8b375d4299aef746\n",
      "🧪 View experiment at: http://localhost:5000/#/experiments/489304826085007307\n"
     ]
    },
    {
     "name": "stderr",
     "output_type": "stream",
     "text": [
      "d:\\My\\AboutData\\Project\\Tuberculosis-Prediction\\tbc_prediction_venv\\lib\\site-packages\\sklearn\\model_selection\\_validation.py:528: FitFailedWarning: \n",
      "20 fits failed out of a total of 50.\n",
      "The score on these train-test partitions for these parameters will be set to nan.\n",
      "If these failures are not expected, you can try to debug them by setting error_score='raise'.\n",
      "\n",
      "Below are more details about the failures:\n",
      "--------------------------------------------------------------------------------\n",
      "10 fits failed with the following error:\n",
      "Traceback (most recent call last):\n",
      "  File \"d:\\My\\AboutData\\Project\\Tuberculosis-Prediction\\tbc_prediction_venv\\lib\\site-packages\\sklearn\\model_selection\\_validation.py\", line 866, in _fit_and_score\n",
      "    estimator.fit(X_train, y_train, **fit_params)\n",
      "  File \"d:\\My\\AboutData\\Project\\Tuberculosis-Prediction\\tbc_prediction_venv\\lib\\site-packages\\sklearn\\base.py\", line 1389, in wrapper\n",
      "    return fit_method(estimator, *args, **kwargs)\n",
      "  File \"d:\\My\\AboutData\\Project\\Tuberculosis-Prediction\\tbc_prediction_venv\\lib\\site-packages\\sklearn\\linear_model\\_logistic.py\", line 1203, in fit\n",
      "    raise ValueError(\"l1_ratio must be specified when penalty is elasticnet.\")\n",
      "ValueError: l1_ratio must be specified when penalty is elasticnet.\n",
      "\n",
      "--------------------------------------------------------------------------------\n",
      "10 fits failed with the following error:\n",
      "Traceback (most recent call last):\n",
      "  File \"d:\\My\\AboutData\\Project\\Tuberculosis-Prediction\\tbc_prediction_venv\\lib\\site-packages\\sklearn\\model_selection\\_validation.py\", line 866, in _fit_and_score\n",
      "    estimator.fit(X_train, y_train, **fit_params)\n",
      "  File \"d:\\My\\AboutData\\Project\\Tuberculosis-Prediction\\tbc_prediction_venv\\lib\\site-packages\\sklearn\\base.py\", line 1389, in wrapper\n",
      "    return fit_method(estimator, *args, **kwargs)\n",
      "  File \"d:\\My\\AboutData\\Project\\Tuberculosis-Prediction\\tbc_prediction_venv\\lib\\site-packages\\sklearn\\linear_model\\_logistic.py\", line 1193, in fit\n",
      "    solver = _check_solver(self.solver, self.penalty, self.dual)\n",
      "  File \"d:\\My\\AboutData\\Project\\Tuberculosis-Prediction\\tbc_prediction_venv\\lib\\site-packages\\sklearn\\linear_model\\_logistic.py\", line 76, in _check_solver\n",
      "    raise ValueError(\"penalty=None is not supported for the liblinear solver\")\n",
      "ValueError: penalty=None is not supported for the liblinear solver\n",
      "\n",
      "  warnings.warn(some_fits_failed_message, FitFailedWarning)\n",
      "d:\\My\\AboutData\\Project\\Tuberculosis-Prediction\\tbc_prediction_venv\\lib\\site-packages\\sklearn\\model_selection\\_search.py:1108: UserWarning: One or more of the test scores are non-finite: [  nan   nan   nan   nan 0.706 0.706 0.706 0.706 0.706 0.706]\n",
      "  warnings.warn(\n",
      "d:\\My\\AboutData\\Project\\Tuberculosis-Prediction\\tbc_prediction_venv\\lib\\site-packages\\mlflow\\types\\utils.py:452: UserWarning: Hint: Inferred schema contains integer column(s). Integer columns in Python cannot represent missing values. If your input data contains missing values at inference time, it will be encoded as floats and will cause a schema enforcement error. The best way to avoid this problem is to infer the model schema based on a realistic data sample (training dataset) that includes missing values. Alternatively, you can declare integer columns as doubles (float64) whenever these columns may have missing values. See `Handling Integers With Missing Values <https://www.mlflow.org/docs/latest/models.html#handling-integers-with-missing-values>`_ for more details.\n",
      "  warnings.warn(\n",
      "d:\\My\\AboutData\\Project\\Tuberculosis-Prediction\\tbc_prediction_venv\\lib\\site-packages\\sklearn\\metrics\\_classification.py:1565: UndefinedMetricWarning: Precision is ill-defined and being set to 0.0 in labels with no predicted samples. Use `zero_division` parameter to control this behavior.\n",
      "  _warn_prf(average, modifier, f\"{metric.capitalize()} is\", len(result))\n",
      "d:\\My\\AboutData\\Project\\Tuberculosis-Prediction\\tbc_prediction_venv\\lib\\site-packages\\sklearn\\metrics\\_classification.py:1565: UndefinedMetricWarning: Precision is ill-defined and being set to 0.0 in labels with no predicted samples. Use `zero_division` parameter to control this behavior.\n",
      "  _warn_prf(average, modifier, f\"{metric.capitalize()} is\", len(result))\n",
      "d:\\My\\AboutData\\Project\\Tuberculosis-Prediction\\tbc_prediction_venv\\lib\\site-packages\\sklearn\\metrics\\_classification.py:1565: UndefinedMetricWarning: Precision is ill-defined and being set to 0.0 in labels with no predicted samples. Use `zero_division` parameter to control this behavior.\n",
      "  _warn_prf(average, modifier, f\"{metric.capitalize()} is\", len(result))\n",
      "2025/04/16 12:34:27 WARNING mlflow.models.model: Model logged without a signature and input example. Please set `input_example` parameter when logging the model to auto infer the model signature.\n",
      "Registered model 'Best One-hot Encoding + Standard Scaler + Logistic Regression' already exists. Creating a new version of this model...\n",
      "2025/04/16 12:34:28 INFO mlflow.store.model_registry.abstract_store: Waiting up to 300 seconds for model version to finish creation. Model name: Best One-hot Encoding + Standard Scaler + Logistic Regression, version 4\n",
      "Created version '4' of model 'Best One-hot Encoding + Standard Scaler + Logistic Regression'.\n",
      "d:\\My\\AboutData\\Project\\Tuberculosis-Prediction\\tbc_prediction_venv\\lib\\site-packages\\sklearn\\model_selection\\_search.py:317: UserWarning: The total space of parameters 1 is smaller than n_iter=10. Running 1 iterations. For exhaustive searches, use GridSearchCV.\n",
      "  warnings.warn(\n"
     ]
    },
    {
     "name": "stdout",
     "output_type": "stream",
     "text": [
      "🏃 View run One-hot Encoding + Standard Scaler + Logistic Regression at: http://localhost:5000/#/experiments/489304826085007307/runs/63ef4da510c44e839f5a171780997f36\n",
      "🧪 View experiment at: http://localhost:5000/#/experiments/489304826085007307\n"
     ]
    },
    {
     "name": "stderr",
     "output_type": "stream",
     "text": [
      "d:\\My\\AboutData\\Project\\Tuberculosis-Prediction\\tbc_prediction_venv\\lib\\site-packages\\mlflow\\types\\utils.py:452: UserWarning: Hint: Inferred schema contains integer column(s). Integer columns in Python cannot represent missing values. If your input data contains missing values at inference time, it will be encoded as floats and will cause a schema enforcement error. The best way to avoid this problem is to infer the model schema based on a realistic data sample (training dataset) that includes missing values. Alternatively, you can declare integer columns as doubles (float64) whenever these columns may have missing values. See `Handling Integers With Missing Values <https://www.mlflow.org/docs/latest/models.html#handling-integers-with-missing-values>`_ for more details.\n",
      "  warnings.warn(\n",
      "d:\\My\\AboutData\\Project\\Tuberculosis-Prediction\\tbc_prediction_venv\\lib\\site-packages\\sklearn\\metrics\\_classification.py:1565: UndefinedMetricWarning: Precision is ill-defined and being set to 0.0 in labels with no predicted samples. Use `zero_division` parameter to control this behavior.\n",
      "  _warn_prf(average, modifier, f\"{metric.capitalize()} is\", len(result))\n",
      "d:\\My\\AboutData\\Project\\Tuberculosis-Prediction\\tbc_prediction_venv\\lib\\site-packages\\sklearn\\metrics\\_classification.py:1565: UndefinedMetricWarning: Precision is ill-defined and being set to 0.0 in labels with no predicted samples. Use `zero_division` parameter to control this behavior.\n",
      "  _warn_prf(average, modifier, f\"{metric.capitalize()} is\", len(result))\n",
      "d:\\My\\AboutData\\Project\\Tuberculosis-Prediction\\tbc_prediction_venv\\lib\\site-packages\\sklearn\\metrics\\_classification.py:1565: UndefinedMetricWarning: Precision is ill-defined and being set to 0.0 in labels with no predicted samples. Use `zero_division` parameter to control this behavior.\n",
      "  _warn_prf(average, modifier, f\"{metric.capitalize()} is\", len(result))\n",
      "2025/04/16 12:41:57 WARNING mlflow.models.model: Model logged without a signature and input example. Please set `input_example` parameter when logging the model to auto infer the model signature.\n",
      "Registered model 'Best One-hot Encoding + Standard Scaler + Support Vector Classifier' already exists. Creating a new version of this model...\n",
      "2025/04/16 12:41:58 INFO mlflow.store.model_registry.abstract_store: Waiting up to 300 seconds for model version to finish creation. Model name: Best One-hot Encoding + Standard Scaler + Support Vector Classifier, version 4\n",
      "Created version '4' of model 'Best One-hot Encoding + Standard Scaler + Support Vector Classifier'.\n"
     ]
    },
    {
     "name": "stdout",
     "output_type": "stream",
     "text": [
      "🏃 View run One-hot Encoding + Standard Scaler + Support Vector Classifier at: http://localhost:5000/#/experiments/489304826085007307/runs/631ff5dd16d54dfbbaa19dc339a52661\n",
      "🧪 View experiment at: http://localhost:5000/#/experiments/489304826085007307\n"
     ]
    },
    {
     "name": "stderr",
     "output_type": "stream",
     "text": [
      "d:\\My\\AboutData\\Project\\Tuberculosis-Prediction\\tbc_prediction_venv\\lib\\site-packages\\mlflow\\types\\utils.py:452: UserWarning: Hint: Inferred schema contains integer column(s). Integer columns in Python cannot represent missing values. If your input data contains missing values at inference time, it will be encoded as floats and will cause a schema enforcement error. The best way to avoid this problem is to infer the model schema based on a realistic data sample (training dataset) that includes missing values. Alternatively, you can declare integer columns as doubles (float64) whenever these columns may have missing values. See `Handling Integers With Missing Values <https://www.mlflow.org/docs/latest/models.html#handling-integers-with-missing-values>`_ for more details.\n",
      "  warnings.warn(\n",
      "d:\\My\\AboutData\\Project\\Tuberculosis-Prediction\\tbc_prediction_venv\\lib\\site-packages\\sklearn\\metrics\\_classification.py:1565: UndefinedMetricWarning: Precision is ill-defined and being set to 0.0 in labels with no predicted samples. Use `zero_division` parameter to control this behavior.\n",
      "  _warn_prf(average, modifier, f\"{metric.capitalize()} is\", len(result))\n",
      "d:\\My\\AboutData\\Project\\Tuberculosis-Prediction\\tbc_prediction_venv\\lib\\site-packages\\sklearn\\metrics\\_classification.py:1565: UndefinedMetricWarning: Precision is ill-defined and being set to 0.0 in labels with no predicted samples. Use `zero_division` parameter to control this behavior.\n",
      "  _warn_prf(average, modifier, f\"{metric.capitalize()} is\", len(result))\n",
      "d:\\My\\AboutData\\Project\\Tuberculosis-Prediction\\tbc_prediction_venv\\lib\\site-packages\\sklearn\\metrics\\_classification.py:1565: UndefinedMetricWarning: Precision is ill-defined and being set to 0.0 in labels with no predicted samples. Use `zero_division` parameter to control this behavior.\n",
      "  _warn_prf(average, modifier, f\"{metric.capitalize()} is\", len(result))\n",
      "2025/04/16 12:43:48 WARNING mlflow.models.model: Model logged without a signature and input example. Please set `input_example` parameter when logging the model to auto infer the model signature.\n",
      "Registered model 'Best One-hot Encoding + Standard Scaler + Random Forest Classifier' already exists. Creating a new version of this model...\n",
      "2025/04/16 12:43:48 INFO mlflow.store.model_registry.abstract_store: Waiting up to 300 seconds for model version to finish creation. Model name: Best One-hot Encoding + Standard Scaler + Random Forest Classifier, version 4\n",
      "Created version '4' of model 'Best One-hot Encoding + Standard Scaler + Random Forest Classifier'.\n"
     ]
    },
    {
     "name": "stdout",
     "output_type": "stream",
     "text": [
      "🏃 View run One-hot Encoding + Standard Scaler + Random Forest Classifier at: http://localhost:5000/#/experiments/489304826085007307/runs/a35a3c8edf6744ffb29679fc0346ac9e\n",
      "🧪 View experiment at: http://localhost:5000/#/experiments/489304826085007307\n",
      "🏃 View run Tuberculosis Prediction Model Training at: http://localhost:5000/#/experiments/489304826085007307/runs/d47ec60061ea4f3381cb1dd6a45ce9f5\n",
      "🧪 View experiment at: http://localhost:5000/#/experiments/489304826085007307\n"
     ]
    }
   ],
   "source": [
    "with mlflow.start_run(run_name=\"Tuberculosis Prediction Model Training\", nested=False):\n",
    "    for i in datasets:\n",
    "        dataset_name = i[0]\n",
    "        X = i[-1].drop(columns=['Class'])\n",
    "        y = i[-1]['Class']\n",
    "        X_train, X_test, y_train, y_test = train_test_split(X,y,test_size=0.2, random_state=42)\n",
    "\n",
    "        for j in models:\n",
    "            run_name=f\"{i[0]} + {j['name']}\"\n",
    "            logging.info(f\"Training {run_name}...\")\n",
    "            base_model = clone(j['model'])\n",
    "            cv = StratifiedKFold(n_splits=5, shuffle=True, random_state=42)\n",
    "            model = RandomizedSearchCV(base_model, j['param_grid'], cv=cv, random_state=42, scoring='accuracy', refit='accuracy')\n",
    "            model.fit(X_train, y_train)\n",
    "            y_pred = model.predict(X_test)\n",
    "            accuracy = accuracy_score(y_test, y_pred)\n",
    "\n",
    "            signature=infer_signature(X_train,y_train)\n",
    "            with mlflow.start_run(run_name=run_name, nested=True):\n",
    "                mlflow.log_param(\"model\", run_name)\n",
    "                mlflow.log_params(model.best_params_)\n",
    "                mlflow.log_metric('accuracy', accuracy)\n",
    "                cm=confusion_matrix(y_test,y_pred)\n",
    "                cr=classification_report(y_test,y_pred)\n",
    "\n",
    "                disp = ConfusionMatrixDisplay(confusion_matrix=cm)\n",
    "                fig, ax = plt.subplots(figsize=(6, 6))\n",
    "                disp.plot(ax=ax)\n",
    "                plt.title(\"Confusion Matrix\")\n",
    "\n",
    "                # Save & log the figure to MLflow\n",
    "                mlflow.log_figure(fig, \"confusion_matrix_plot.png\")\n",
    "\n",
    "                # Close the plot to avoid memory issues in loops\n",
    "                plt.close(fig)\n",
    "\n",
    "                mlflow.log_text(str(cm),\"confusion_matrix.txt\")\n",
    "                mlflow.log_text(cr,\"classification_report.txt\")\n",
    "                # mlflow.sklearn.log_model(model, \"model\")\n",
    "\n",
    "                if tracking_url_type_store !='file':\n",
    "                    mlflow.sklearn.log_model(model,\"model\",registered_model_name=f\"Best {run_name}\")\n",
    "                else:\n",
    "                    mlflow.sklearn.log_model(model,\"model\",signature=signature)"
   ]
  },
  {
   "cell_type": "code",
   "execution_count": null,
   "id": "ff6f80f1",
   "metadata": {},
   "outputs": [
    {
     "data": {
      "text/plain": [
       "0.6965"
      ]
     },
     "execution_count": 37,
     "metadata": {},
     "output_type": "execute_result"
    }
   ],
   "source": []
  }
 ],
 "metadata": {
  "kernelspec": {
   "display_name": "tbc_prediction_venv",
   "language": "python",
   "name": "python3"
  },
  "language_info": {
   "codemirror_mode": {
    "name": "ipython",
    "version": 3
   },
   "file_extension": ".py",
   "mimetype": "text/x-python",
   "name": "python",
   "nbconvert_exporter": "python",
   "pygments_lexer": "ipython3",
   "version": "3.10.11"
  }
 },
 "nbformat": 4,
 "nbformat_minor": 5
}
