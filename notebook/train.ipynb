{
 "cells": [
  {
   "cell_type": "code",
   "execution_count": 9,
   "id": "8e476d5c",
   "metadata": {},
   "outputs": [],
   "source": [
    "from sklearn.model_selection import train_test_split, RandomizedSearchCV\n",
    "from sklearn.metrics import make_scorer, r2_score, mean_absolute_error\n",
    "from sklearn.ensemble import RandomForestClassifier\n",
    "from sklearn.linear_model import LogisticRegression\n",
    "from sklearn.svm import SVC\n",
    "import pandas as pd\n",
    "\n",
    "from mlflow.models import infer_signature\n",
    "from urllib.parse import urlparse\n",
    "import logging\n",
    "import mlflow"
   ]
  },
  {
   "cell_type": "code",
   "execution_count": null,
   "id": "99fc8211",
   "metadata": {},
   "outputs": [],
   "source": [
    "scoring = {\n",
    "    'r2': make_scorer(r2_score),\n",
    "    'mae': make_scorer(mean_absolute_error)\n",
    "}"
   ]
  },
  {
   "cell_type": "markdown",
   "id": "fe458b4a",
   "metadata": {},
   "source": [
    "## Model Hyperparameter"
   ]
  },
  {
   "cell_type": "code",
   "execution_count": null,
   "id": "26e518e4",
   "metadata": {},
   "outputs": [],
   "source": [
    "models = [\n",
    "    {\n",
    "        'model': LogisticRegression(),\n",
    "        'name': 'Logistic Regression',\n",
    "        'param_grid': {\n",
    "            'penalty': ['l1', 'l2', 'elasticnet', None],\n",
    "            'C': [0.01, 0.1, 1, 10, 100],\n",
    "            'solver': ['saga', 'liblinear'],\n",
    "            'max_iter': [100, 200, 500]\n",
    "        }\n",
    "    },\n",
    "    {\n",
    "        'model': SVC(probability=True),\n",
    "        'name': 'Support Vector Classifier',\n",
    "        'param_grid': None\n",
    "    },\n",
    "    {\n",
    "        'model': RandomForestClassifier(),\n",
    "        'name': 'Random Forest Classifier',\n",
    "        'param_grid': {\n",
    "            'n_estimators': [100, 200, 500],\n",
    "            'max_depth': [None, 5, 10, 20],\n",
    "            'min_samples_split': [2, 5, 10],\n",
    "            'min_samples_leaf': [1, 2, 4],\n",
    "            'bootstrap': [True, False]\n",
    "        }\n",
    "    }\n",
    "]"
   ]
  },
  {
   "cell_type": "code",
   "execution_count": null,
   "id": "1ea9b688",
   "metadata": {},
   "outputs": [],
   "source": [
    "# Initialize MLflow\n",
    "mlflow.set_experiment(\"Tuberculosis Prediction\")\n",
    "mlflow.set_tracking_uri(\"http://localhost:5000\")\n",
    "tracking_url_type_store=urlparse(mlflow.get_tracking_uri()).scheme"
   ]
  },
  {
   "cell_type": "code",
   "execution_count": null,
   "id": "18b13660",
   "metadata": {},
   "outputs": [],
   "source": [
    "datasets = [\n",
    "    ['Label Encoding', pd.read_csv('../data/processed/data_v1.csv')],\n",
    "    ['One-hot Encoding', pd.read_csv('../data/processed/data_v2.csv')],\n",
    "    ['Label Encoding + MinMax Scaler', pd.read_csv('../data/processed/data_v3.csv')],\n",
    "    ['Label Encoding + Standard Scaler', pd.read_csv('../data/processed/data_v4.csv')],\n",
    "    ['One-hot Encoding + MinMax Scaler', pd.read_csv('../data/processed/data_v5.csv')],\n",
    "    ['One-hot Encoding + Standard Scaler', pd.read_csv('../data/processed/data_v6.csv')]\n",
    "]"
   ]
  },
  {
   "cell_type": "code",
   "execution_count": null,
   "id": "0b1ca796",
   "metadata": {},
   "outputs": [],
   "source": [
    "with mlflow.start_run(run_name=\"Tuberculosis Prediction Model Training\", nested=False):\n",
    "    for i in datasets:\n",
    "        dataset_name = i[0]\n",
    "        X = i[-1].drop(columns=['Class'])\n",
    "        y = i[-1]['Class']\n",
    "        X_train, y_train, X_test, y_test = train_test_split(X,y,test_size=0.2)\n",
    "\n",
    "        for j in models:\n",
    "            run_name=f\"{i[0]} + {j['name']}\"\n",
    "            logging.info(f\"Training {run_name}...\")\n",
    "            model = RandomizedSearchCV(j['model'], j['params'], cv=3, random_state=42, scoring=scoring, refit='r2')\n",
    "            model.fit(X_train, y_train)\n",
    "            y_pred = model.predict(X_test)\n",
    "            r2, mae = r2_score(y_test, y_pred), mean_absolute_error(y_test, y_pred)\n",
    "\n",
    "            signature=infer_signature(X_train,y_train)\n",
    "            with mlflow.start_run(run_name=run_name, nested=True):\n",
    "                mlflow.log_param(\"model\", run_name)\n",
    "                mlflow.log_params(model.best_params_)\n",
    "                mlflow.log_metric('r2_score', r2)\n",
    "                mlflow.log_metric('mean_absolute_error', mae)\n",
    "                # mlflow.sklearn.log_model(model, \"model\")\n",
    "\n",
    "                if tracking_url_type_store !='file':\n",
    "                    mlflow.sklearn.log_model(model,\"model\",registered_model_name=f\"Best {run_name}\")\n",
    "                else:\n",
    "                    mlflow.sklearn.log_model(model,\"model\",signature=signature)"
   ]
  }
 ],
 "metadata": {
  "kernelspec": {
   "display_name": "tbc_prediction_venv",
   "language": "python",
   "name": "python3"
  },
  "language_info": {
   "codemirror_mode": {
    "name": "ipython",
    "version": 3
   },
   "file_extension": ".py",
   "mimetype": "text/x-python",
   "name": "python",
   "nbconvert_exporter": "python",
   "pygments_lexer": "ipython3",
   "version": "3.10.11"
  }
 },
 "nbformat": 4,
 "nbformat_minor": 5
}
