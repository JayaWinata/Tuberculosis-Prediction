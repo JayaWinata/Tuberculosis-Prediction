{
 "cells": [
  {
   "cell_type": "code",
   "execution_count": 3,
   "id": "5574b224",
   "metadata": {},
   "outputs": [],
   "source": [
    "from sklearn.preprocessing import StandardScaler, MinMaxScaler, LabelEncoder, OneHotEncoder\n",
    "from sklearn.model_selection import train_test_split\n",
    "import matplotlib.pyplot as plt\n",
    "import seaborn as sns\n",
    "import pandas as pd\n",
    "import numpy as np"
   ]
  },
  {
   "cell_type": "markdown",
   "id": "4225ab55",
   "metadata": {},
   "source": [
    "## Load Dataset"
   ]
  },
  {
   "cell_type": "code",
   "execution_count": 4,
   "id": "6c05cc50",
   "metadata": {},
   "outputs": [],
   "source": [
    "df = pd.read_csv('../data/raw/tuberculosis_xray_dataset.csv')"
   ]
  },
  {
   "cell_type": "code",
   "execution_count": 5,
   "id": "ed3ba81a",
   "metadata": {},
   "outputs": [
    {
     "data": {
      "application/vnd.microsoft.datawrangler.viewer.v0+json": {
       "columns": [
        {
         "name": "index",
         "rawType": "int64",
         "type": "integer"
        },
        {
         "name": "Patient_ID",
         "rawType": "object",
         "type": "string"
        },
        {
         "name": "Age",
         "rawType": "int64",
         "type": "integer"
        },
        {
         "name": "Gender",
         "rawType": "object",
         "type": "string"
        },
        {
         "name": "Chest_Pain",
         "rawType": "object",
         "type": "string"
        },
        {
         "name": "Cough_Severity",
         "rawType": "int64",
         "type": "integer"
        },
        {
         "name": "Breathlessness",
         "rawType": "int64",
         "type": "integer"
        },
        {
         "name": "Fatigue",
         "rawType": "int64",
         "type": "integer"
        },
        {
         "name": "Weight_Loss",
         "rawType": "float64",
         "type": "float"
        },
        {
         "name": "Fever",
         "rawType": "object",
         "type": "string"
        },
        {
         "name": "Night_Sweats",
         "rawType": "object",
         "type": "string"
        },
        {
         "name": "Sputum_Production",
         "rawType": "object",
         "type": "string"
        },
        {
         "name": "Blood_in_Sputum",
         "rawType": "object",
         "type": "string"
        },
        {
         "name": "Smoking_History",
         "rawType": "object",
         "type": "string"
        },
        {
         "name": "Previous_TB_History",
         "rawType": "object",
         "type": "string"
        },
        {
         "name": "Class",
         "rawType": "object",
         "type": "string"
        }
       ],
       "conversionMethod": "pd.DataFrame",
       "ref": "73664fc0-62b7-4283-8718-7f55fb656afa",
       "rows": [
        [
         "0",
         "PID000001",
         "69",
         "Male",
         "Yes",
         "1",
         "2",
         "3",
         "2.37",
         "Moderate",
         "Yes",
         "Medium",
         "Yes",
         "Former",
         "Yes",
         "Normal"
        ],
        [
         "1",
         "PID000002",
         "32",
         "Female",
         "Yes",
         "3",
         "0",
         "9",
         "6.09",
         "Moderate",
         "No",
         "Medium",
         "No",
         "Current",
         "Yes",
         "Normal"
        ],
        [
         "2",
         "PID000003",
         "89",
         "Male",
         "No",
         "7",
         "0",
         "3",
         "2.86",
         "Mild",
         "Yes",
         "Medium",
         "No",
         "Current",
         "No",
         "Tuberculosis"
        ],
        [
         "3",
         "PID000004",
         "78",
         "Female",
         "Yes",
         "2",
         "0",
         "6",
         "4.57",
         "Moderate",
         "No",
         "High",
         "Yes",
         "Never",
         "Yes",
         "Tuberculosis"
        ],
        [
         "4",
         "PID000005",
         "38",
         "Male",
         "No",
         "7",
         "2",
         "5",
         "13.86",
         "High",
         "Yes",
         "Low",
         "No",
         "Never",
         "Yes",
         "Tuberculosis"
        ]
       ],
       "shape": {
        "columns": 15,
        "rows": 5
       }
      },
      "text/html": [
       "<div>\n",
       "<style scoped>\n",
       "    .dataframe tbody tr th:only-of-type {\n",
       "        vertical-align: middle;\n",
       "    }\n",
       "\n",
       "    .dataframe tbody tr th {\n",
       "        vertical-align: top;\n",
       "    }\n",
       "\n",
       "    .dataframe thead th {\n",
       "        text-align: right;\n",
       "    }\n",
       "</style>\n",
       "<table border=\"1\" class=\"dataframe\">\n",
       "  <thead>\n",
       "    <tr style=\"text-align: right;\">\n",
       "      <th></th>\n",
       "      <th>Patient_ID</th>\n",
       "      <th>Age</th>\n",
       "      <th>Gender</th>\n",
       "      <th>Chest_Pain</th>\n",
       "      <th>Cough_Severity</th>\n",
       "      <th>Breathlessness</th>\n",
       "      <th>Fatigue</th>\n",
       "      <th>Weight_Loss</th>\n",
       "      <th>Fever</th>\n",
       "      <th>Night_Sweats</th>\n",
       "      <th>Sputum_Production</th>\n",
       "      <th>Blood_in_Sputum</th>\n",
       "      <th>Smoking_History</th>\n",
       "      <th>Previous_TB_History</th>\n",
       "      <th>Class</th>\n",
       "    </tr>\n",
       "  </thead>\n",
       "  <tbody>\n",
       "    <tr>\n",
       "      <th>0</th>\n",
       "      <td>PID000001</td>\n",
       "      <td>69</td>\n",
       "      <td>Male</td>\n",
       "      <td>Yes</td>\n",
       "      <td>1</td>\n",
       "      <td>2</td>\n",
       "      <td>3</td>\n",
       "      <td>2.37</td>\n",
       "      <td>Moderate</td>\n",
       "      <td>Yes</td>\n",
       "      <td>Medium</td>\n",
       "      <td>Yes</td>\n",
       "      <td>Former</td>\n",
       "      <td>Yes</td>\n",
       "      <td>Normal</td>\n",
       "    </tr>\n",
       "    <tr>\n",
       "      <th>1</th>\n",
       "      <td>PID000002</td>\n",
       "      <td>32</td>\n",
       "      <td>Female</td>\n",
       "      <td>Yes</td>\n",
       "      <td>3</td>\n",
       "      <td>0</td>\n",
       "      <td>9</td>\n",
       "      <td>6.09</td>\n",
       "      <td>Moderate</td>\n",
       "      <td>No</td>\n",
       "      <td>Medium</td>\n",
       "      <td>No</td>\n",
       "      <td>Current</td>\n",
       "      <td>Yes</td>\n",
       "      <td>Normal</td>\n",
       "    </tr>\n",
       "    <tr>\n",
       "      <th>2</th>\n",
       "      <td>PID000003</td>\n",
       "      <td>89</td>\n",
       "      <td>Male</td>\n",
       "      <td>No</td>\n",
       "      <td>7</td>\n",
       "      <td>0</td>\n",
       "      <td>3</td>\n",
       "      <td>2.86</td>\n",
       "      <td>Mild</td>\n",
       "      <td>Yes</td>\n",
       "      <td>Medium</td>\n",
       "      <td>No</td>\n",
       "      <td>Current</td>\n",
       "      <td>No</td>\n",
       "      <td>Tuberculosis</td>\n",
       "    </tr>\n",
       "    <tr>\n",
       "      <th>3</th>\n",
       "      <td>PID000004</td>\n",
       "      <td>78</td>\n",
       "      <td>Female</td>\n",
       "      <td>Yes</td>\n",
       "      <td>2</td>\n",
       "      <td>0</td>\n",
       "      <td>6</td>\n",
       "      <td>4.57</td>\n",
       "      <td>Moderate</td>\n",
       "      <td>No</td>\n",
       "      <td>High</td>\n",
       "      <td>Yes</td>\n",
       "      <td>Never</td>\n",
       "      <td>Yes</td>\n",
       "      <td>Tuberculosis</td>\n",
       "    </tr>\n",
       "    <tr>\n",
       "      <th>4</th>\n",
       "      <td>PID000005</td>\n",
       "      <td>38</td>\n",
       "      <td>Male</td>\n",
       "      <td>No</td>\n",
       "      <td>7</td>\n",
       "      <td>2</td>\n",
       "      <td>5</td>\n",
       "      <td>13.86</td>\n",
       "      <td>High</td>\n",
       "      <td>Yes</td>\n",
       "      <td>Low</td>\n",
       "      <td>No</td>\n",
       "      <td>Never</td>\n",
       "      <td>Yes</td>\n",
       "      <td>Tuberculosis</td>\n",
       "    </tr>\n",
       "  </tbody>\n",
       "</table>\n",
       "</div>"
      ],
      "text/plain": [
       "  Patient_ID  Age  Gender Chest_Pain  Cough_Severity  Breathlessness  Fatigue  \\\n",
       "0  PID000001   69    Male        Yes               1               2        3   \n",
       "1  PID000002   32  Female        Yes               3               0        9   \n",
       "2  PID000003   89    Male         No               7               0        3   \n",
       "3  PID000004   78  Female        Yes               2               0        6   \n",
       "4  PID000005   38    Male         No               7               2        5   \n",
       "\n",
       "   Weight_Loss     Fever Night_Sweats Sputum_Production Blood_in_Sputum  \\\n",
       "0         2.37  Moderate          Yes            Medium             Yes   \n",
       "1         6.09  Moderate           No            Medium              No   \n",
       "2         2.86      Mild          Yes            Medium              No   \n",
       "3         4.57  Moderate           No              High             Yes   \n",
       "4        13.86      High          Yes               Low              No   \n",
       "\n",
       "  Smoking_History Previous_TB_History         Class  \n",
       "0          Former                 Yes        Normal  \n",
       "1         Current                 Yes        Normal  \n",
       "2         Current                  No  Tuberculosis  \n",
       "3           Never                 Yes  Tuberculosis  \n",
       "4           Never                 Yes  Tuberculosis  "
      ]
     },
     "execution_count": 5,
     "metadata": {},
     "output_type": "execute_result"
    }
   ],
   "source": [
    "df.head()"
   ]
  },
  {
   "cell_type": "markdown",
   "id": "46752613",
   "metadata": {},
   "source": [
    "## Exploratory Data Analysis"
   ]
  },
  {
   "cell_type": "code",
   "execution_count": 6,
   "id": "f1726d55",
   "metadata": {},
   "outputs": [
    {
     "name": "stdout",
     "output_type": "stream",
     "text": [
      "<class 'pandas.core.frame.DataFrame'>\n",
      "RangeIndex: 20000 entries, 0 to 19999\n",
      "Data columns (total 15 columns):\n",
      " #   Column               Non-Null Count  Dtype  \n",
      "---  ------               --------------  -----  \n",
      " 0   Patient_ID           20000 non-null  object \n",
      " 1   Age                  20000 non-null  int64  \n",
      " 2   Gender               20000 non-null  object \n",
      " 3   Chest_Pain           20000 non-null  object \n",
      " 4   Cough_Severity       20000 non-null  int64  \n",
      " 5   Breathlessness       20000 non-null  int64  \n",
      " 6   Fatigue              20000 non-null  int64  \n",
      " 7   Weight_Loss          20000 non-null  float64\n",
      " 8   Fever                20000 non-null  object \n",
      " 9   Night_Sweats         20000 non-null  object \n",
      " 10  Sputum_Production    20000 non-null  object \n",
      " 11  Blood_in_Sputum      20000 non-null  object \n",
      " 12  Smoking_History      20000 non-null  object \n",
      " 13  Previous_TB_History  20000 non-null  object \n",
      " 14  Class                20000 non-null  object \n",
      "dtypes: float64(1), int64(4), object(10)\n",
      "memory usage: 2.3+ MB\n"
     ]
    }
   ],
   "source": [
    "df.info()"
   ]
  },
  {
   "cell_type": "code",
   "execution_count": 7,
   "id": "860536d1",
   "metadata": {},
   "outputs": [
    {
     "data": {
      "application/vnd.microsoft.datawrangler.viewer.v0+json": {
       "columns": [
        {
         "name": "index",
         "rawType": "object",
         "type": "string"
        },
        {
         "name": "Age",
         "rawType": "float64",
         "type": "float"
        },
        {
         "name": "Cough_Severity",
         "rawType": "float64",
         "type": "float"
        },
        {
         "name": "Breathlessness",
         "rawType": "float64",
         "type": "float"
        },
        {
         "name": "Fatigue",
         "rawType": "float64",
         "type": "float"
        },
        {
         "name": "Weight_Loss",
         "rawType": "float64",
         "type": "float"
        }
       ],
       "conversionMethod": "pd.DataFrame",
       "ref": "b0fb80f7-20c6-4fcf-a1e7-1da9181297e5",
       "rows": [
        [
         "count",
         "20000.0",
         "20000.0",
         "20000.0",
         "20000.0",
         "20000.0"
        ],
        [
         "mean",
         "53.46745",
         "4.49135",
         "2.00345",
         "4.50845",
         "7.455280500000001"
        ],
        [
         "std",
         "20.773984172960684",
         "2.8647225885372327",
         "1.417123321883269",
         "2.8815523185755683",
         "4.339863961264208"
        ],
        [
         "min",
         "18.0",
         "0.0",
         "0.0",
         "0.0",
         "0.0"
        ],
        [
         "25%",
         "35.0",
         "2.0",
         "1.0",
         "2.0",
         "3.64"
        ],
        [
         "50%",
         "53.0",
         "4.0",
         "2.0",
         "5.0",
         "7.49"
        ],
        [
         "75%",
         "71.0",
         "7.0",
         "3.0",
         "7.0",
         "11.2"
        ],
        [
         "max",
         "89.0",
         "9.0",
         "4.0",
         "9.0",
         "15.0"
        ]
       ],
       "shape": {
        "columns": 5,
        "rows": 8
       }
      },
      "text/html": [
       "<div>\n",
       "<style scoped>\n",
       "    .dataframe tbody tr th:only-of-type {\n",
       "        vertical-align: middle;\n",
       "    }\n",
       "\n",
       "    .dataframe tbody tr th {\n",
       "        vertical-align: top;\n",
       "    }\n",
       "\n",
       "    .dataframe thead th {\n",
       "        text-align: right;\n",
       "    }\n",
       "</style>\n",
       "<table border=\"1\" class=\"dataframe\">\n",
       "  <thead>\n",
       "    <tr style=\"text-align: right;\">\n",
       "      <th></th>\n",
       "      <th>Age</th>\n",
       "      <th>Cough_Severity</th>\n",
       "      <th>Breathlessness</th>\n",
       "      <th>Fatigue</th>\n",
       "      <th>Weight_Loss</th>\n",
       "    </tr>\n",
       "  </thead>\n",
       "  <tbody>\n",
       "    <tr>\n",
       "      <th>count</th>\n",
       "      <td>20000.000000</td>\n",
       "      <td>20000.000000</td>\n",
       "      <td>20000.000000</td>\n",
       "      <td>20000.000000</td>\n",
       "      <td>20000.000000</td>\n",
       "    </tr>\n",
       "    <tr>\n",
       "      <th>mean</th>\n",
       "      <td>53.467450</td>\n",
       "      <td>4.491350</td>\n",
       "      <td>2.003450</td>\n",
       "      <td>4.508450</td>\n",
       "      <td>7.455281</td>\n",
       "    </tr>\n",
       "    <tr>\n",
       "      <th>std</th>\n",
       "      <td>20.773984</td>\n",
       "      <td>2.864723</td>\n",
       "      <td>1.417123</td>\n",
       "      <td>2.881552</td>\n",
       "      <td>4.339864</td>\n",
       "    </tr>\n",
       "    <tr>\n",
       "      <th>min</th>\n",
       "      <td>18.000000</td>\n",
       "      <td>0.000000</td>\n",
       "      <td>0.000000</td>\n",
       "      <td>0.000000</td>\n",
       "      <td>0.000000</td>\n",
       "    </tr>\n",
       "    <tr>\n",
       "      <th>25%</th>\n",
       "      <td>35.000000</td>\n",
       "      <td>2.000000</td>\n",
       "      <td>1.000000</td>\n",
       "      <td>2.000000</td>\n",
       "      <td>3.640000</td>\n",
       "    </tr>\n",
       "    <tr>\n",
       "      <th>50%</th>\n",
       "      <td>53.000000</td>\n",
       "      <td>4.000000</td>\n",
       "      <td>2.000000</td>\n",
       "      <td>5.000000</td>\n",
       "      <td>7.490000</td>\n",
       "    </tr>\n",
       "    <tr>\n",
       "      <th>75%</th>\n",
       "      <td>71.000000</td>\n",
       "      <td>7.000000</td>\n",
       "      <td>3.000000</td>\n",
       "      <td>7.000000</td>\n",
       "      <td>11.200000</td>\n",
       "    </tr>\n",
       "    <tr>\n",
       "      <th>max</th>\n",
       "      <td>89.000000</td>\n",
       "      <td>9.000000</td>\n",
       "      <td>4.000000</td>\n",
       "      <td>9.000000</td>\n",
       "      <td>15.000000</td>\n",
       "    </tr>\n",
       "  </tbody>\n",
       "</table>\n",
       "</div>"
      ],
      "text/plain": [
       "                Age  Cough_Severity  Breathlessness       Fatigue  \\\n",
       "count  20000.000000    20000.000000    20000.000000  20000.000000   \n",
       "mean      53.467450        4.491350        2.003450      4.508450   \n",
       "std       20.773984        2.864723        1.417123      2.881552   \n",
       "min       18.000000        0.000000        0.000000      0.000000   \n",
       "25%       35.000000        2.000000        1.000000      2.000000   \n",
       "50%       53.000000        4.000000        2.000000      5.000000   \n",
       "75%       71.000000        7.000000        3.000000      7.000000   \n",
       "max       89.000000        9.000000        4.000000      9.000000   \n",
       "\n",
       "        Weight_Loss  \n",
       "count  20000.000000  \n",
       "mean       7.455281  \n",
       "std        4.339864  \n",
       "min        0.000000  \n",
       "25%        3.640000  \n",
       "50%        7.490000  \n",
       "75%       11.200000  \n",
       "max       15.000000  "
      ]
     },
     "execution_count": 7,
     "metadata": {},
     "output_type": "execute_result"
    }
   ],
   "source": [
    "df.describe()"
   ]
  },
  {
   "cell_type": "code",
   "execution_count": 8,
   "id": "6ade6678",
   "metadata": {},
   "outputs": [
    {
     "data": {
      "image/png": "[encoded data removed]",
      "text/plain": [
       "<Figure size 1500x600 with 6 Axes>"
      ]
     },
     "metadata": {},
     "output_type": "display_data"
    }
   ],
   "source": [
    "fig, axes = plt.subplots(2, 3, figsize=(15, 6))\n",
    "axes = axes.flatten()\n",
    "\n",
    "for i, (col, ax) in enumerate(zip(df.select_dtypes(include='number').columns[:-1], axes)):\n",
    "    sns.histplot(df.select_dtypes(include='number')[col], ax=ax, kde=True, color='skyblue', bins=30)\n",
    "    ax.set_title(f'Distribution of {col}', fontsize=12)\n",
    "    ax.set_xlabel('')\n",
    "    ax.set_ylabel('')"
   ]
  },
  {
   "cell_type": "code",
   "execution_count": 9,
   "id": "53b937d8",
   "metadata": {},
   "outputs": [
    {
     "data": {
      "image/png": "[encoded data removed]",
      "text/plain": [
       "<Figure size 1500x600 with 6 Axes>"
      ]
     },
     "metadata": {},
     "output_type": "display_data"
    }
   ],
   "source": [
    "fig, axes = plt.subplots(2, 3, figsize=(15, 6))\n",
    "axes = axes.flatten()\n",
    "\n",
    "for i, (col, ax) in enumerate(zip(df.select_dtypes(include='number').columns[:-1], axes)):\n",
    "    sns.boxplot(df.select_dtypes(include='number')[col], ax=ax, color='skyblue', orient='h')\n",
    "    ax.set_title(f'Distribution of {col}', fontsize=12)\n",
    "    ax.set_xlabel('')\n",
    "    ax.set_ylabel('')"
   ]
  },
  {
   "cell_type": "code",
   "execution_count": 10,
   "id": "3861a401",
   "metadata": {},
   "outputs": [
    {
     "name": "stderr",
     "output_type": "stream",
     "text": [
      "C:\\Users\\jayaw\\AppData\\Local\\Temp\\ipykernel_22052\\991270672.py:11: UserWarning: set_ticklabels() should only be used with a fixed number of ticks, i.e. after set_ticks() or using a FixedLocator.\n",
      "  ax.set_xticklabels(ax.get_xticklabels(), rotation=45)\n",
      "C:\\Users\\jayaw\\AppData\\Local\\Temp\\ipykernel_22052\\991270672.py:11: UserWarning: set_ticklabels() should only be used with a fixed number of ticks, i.e. after set_ticks() or using a FixedLocator.\n",
      "  ax.set_xticklabels(ax.get_xticklabels(), rotation=45)\n",
      "C:\\Users\\jayaw\\AppData\\Local\\Temp\\ipykernel_22052\\991270672.py:11: UserWarning: set_ticklabels() should only be used with a fixed number of ticks, i.e. after set_ticks() or using a FixedLocator.\n",
      "  ax.set_xticklabels(ax.get_xticklabels(), rotation=45)\n",
      "C:\\Users\\jayaw\\AppData\\Local\\Temp\\ipykernel_22052\\991270672.py:11: UserWarning: set_ticklabels() should only be used with a fixed number of ticks, i.e. after set_ticks() or using a FixedLocator.\n",
      "  ax.set_xticklabels(ax.get_xticklabels(), rotation=45)\n",
      "C:\\Users\\jayaw\\AppData\\Local\\Temp\\ipykernel_22052\\991270672.py:11: UserWarning: set_ticklabels() should only be used with a fixed number of ticks, i.e. after set_ticks() or using a FixedLocator.\n",
      "  ax.set_xticklabels(ax.get_xticklabels(), rotation=45)\n",
      "C:\\Users\\jayaw\\AppData\\Local\\Temp\\ipykernel_22052\\991270672.py:11: UserWarning: set_ticklabels() should only be used with a fixed number of ticks, i.e. after set_ticks() or using a FixedLocator.\n",
      "  ax.set_xticklabels(ax.get_xticklabels(), rotation=45)\n",
      "C:\\Users\\jayaw\\AppData\\Local\\Temp\\ipykernel_22052\\991270672.py:11: UserWarning: set_ticklabels() should only be used with a fixed number of ticks, i.e. after set_ticks() or using a FixedLocator.\n",
      "  ax.set_xticklabels(ax.get_xticklabels(), rotation=45)\n",
      "C:\\Users\\jayaw\\AppData\\Local\\Temp\\ipykernel_22052\\991270672.py:11: UserWarning: set_ticklabels() should only be used with a fixed number of ticks, i.e. after set_ticks() or using a FixedLocator.\n",
      "  ax.set_xticklabels(ax.get_xticklabels(), rotation=45)\n",
      "C:\\Users\\jayaw\\AppData\\Local\\Temp\\ipykernel_22052\\991270672.py:11: UserWarning: set_ticklabels() should only be used with a fixed number of ticks, i.e. after set_ticks() or using a FixedLocator.\n",
      "  ax.set_xticklabels(ax.get_xticklabels(), rotation=45)\n"
     ]
    },
    {
     "data": {
      "image/png": "[encoded data removed]",
      "text/plain": [
       "<Figure size 1200x1200 with 9 Axes>"
      ]
     },
     "metadata": {},
     "output_type": "display_data"
    }
   ],
   "source": [
    "fig, axes = plt.subplots(5, 2, figsize=(12, 12))  # 2x2 grid\n",
    "axes = axes.flatten()  # Flatten to 1D array for easy iteration\n",
    "\n",
    "# Get categorical columns\n",
    "cat_cols = df.select_dtypes(include='object').columns[1:len(axes)]  # Ensure we don't exceed subplot count\n",
    "\n",
    "for col, ax in zip(cat_cols, axes):\n",
    "    sns.countplot(data=df, x=col, ax=ax)  # Assign ax\n",
    "    ax.set_title(f'Distribution of {col}', fontsize=12)\n",
    "    ax.set_xlabel('')\n",
    "    ax.set_xticklabels(ax.get_xticklabels(), rotation=45)\n",
    "    ax.set_ylabel('')\n",
    "\n",
    "# Hide unused subplots if df has fewer than 4 categorical columns\n",
    "for i in range(len(cat_cols), len(axes)):\n",
    "    fig.delaxes(axes[i])\n",
    "\n",
    "plt.tight_layout()\n",
    "plt.show()"
   ]
  },
  {
   "cell_type": "markdown",
   "id": "8cf9a473",
   "metadata": {},
   "source": [
    "## Data Preprocessing"
   ]
  },
  {
   "cell_type": "markdown",
   "id": "9dde699c",
   "metadata": {},
   "source": [
    "Dataset version:\n",
    "\n",
    "- v1: Label encoding\n",
    "- v2: One-hot encoding\n",
    "- v3: Label encoding + MinMax Scaler\n",
    "- v4: Label encoding + Standard Scaler\n",
    "- v5: One-hot encoding + MinMax Scaler\n",
    "- v6: One-hot encoding + Standard Scaler"
   ]
  },
  {
   "cell_type": "code",
   "execution_count": 13,
   "id": "10970872",
   "metadata": {},
   "outputs": [],
   "source": [
    "df = df.drop('Patient_ID', axis=1)"
   ]
  },
  {
   "cell_type": "code",
   "execution_count": 14,
   "id": "f626bc32",
   "metadata": {},
   "outputs": [],
   "source": [
    "categorical_cols = df.select_dtypes(include='object').columns"
   ]
  },
  {
   "cell_type": "code",
   "execution_count": 16,
   "id": "a6ab6575",
   "metadata": {},
   "outputs": [],
   "source": [
    "cols_to_scale = ['Age', 'Cough_Severity', 'Breathlessness', 'Fatigue', 'Weight_Loss']"
   ]
  },
  {
   "cell_type": "markdown",
   "id": "c0803ab5",
   "metadata": {},
   "source": [
    "### Encoding"
   ]
  },
  {
   "cell_type": "markdown",
   "id": "f2790ee6",
   "metadata": {},
   "source": [
    "- #### Label Encoding"
   ]
  },
  {
   "cell_type": "code",
   "execution_count": 17,
   "id": "b4a0ec05",
   "metadata": {},
   "outputs": [],
   "source": [
    "df_v1 = df.copy()"
   ]
  },
  {
   "cell_type": "code",
   "execution_count": 18,
   "id": "69b5806f",
   "metadata": {},
   "outputs": [],
   "source": [
    "le = LabelEncoder()\n",
    "for i in categorical_cols:\n",
    "    df_v1[i] = le.fit_transform(df_v1[i])"
   ]
  },
  {
   "cell_type": "code",
   "execution_count": 19,
   "id": "2bdfeb70",
   "metadata": {},
   "outputs": [
    {
     "data": {
      "application/vnd.microsoft.datawrangler.viewer.v0+json": {
       "columns": [
        {
         "name": "index",
         "rawType": "int64",
         "type": "integer"
        },
        {
         "name": "Age",
         "rawType": "int64",
         "type": "integer"
        },
        {
         "name": "Gender",
         "rawType": "int64",
         "type": "integer"
        },
        {
         "name": "Chest_Pain",
         "rawType": "int64",
         "type": "integer"
        },
        {
         "name": "Cough_Severity",
         "rawType": "int64",
         "type": "integer"
        },
        {
         "name": "Breathlessness",
         "rawType": "int64",
         "type": "integer"
        },
        {
         "name": "Fatigue",
         "rawType": "int64",
         "type": "integer"
        },
        {
         "name": "Weight_Loss",
         "rawType": "float64",
         "type": "float"
        },
        {
         "name": "Fever",
         "rawType": "int64",
         "type": "integer"
        },
        {
         "name": "Night_Sweats",
         "rawType": "int64",
         "type": "integer"
        },
        {
         "name": "Sputum_Production",
         "rawType": "int64",
         "type": "integer"
        },
        {
         "name": "Blood_in_Sputum",
         "rawType": "int64",
         "type": "integer"
        },
        {
         "name": "Smoking_History",
         "rawType": "int64",
         "type": "integer"
        },
        {
         "name": "Previous_TB_History",
         "rawType": "int64",
         "type": "integer"
        },
        {
         "name": "Class",
         "rawType": "int64",
         "type": "integer"
        }
       ],
       "conversionMethod": "pd.DataFrame",
       "ref": "6bc75b1e-11e9-41d6-9de1-b61e0f5c60f9",
       "rows": [
        [
         "0",
         "69",
         "1",
         "1",
         "1",
         "2",
         "3",
         "2.37",
         "2",
         "1",
         "2",
         "1",
         "1",
         "1",
         "0"
        ],
        [
         "1",
         "32",
         "0",
         "1",
         "3",
         "0",
         "9",
         "6.09",
         "2",
         "0",
         "2",
         "0",
         "0",
         "1",
         "0"
        ],
        [
         "2",
         "89",
         "1",
         "0",
         "7",
         "0",
         "3",
         "2.86",
         "1",
         "1",
         "2",
         "0",
         "0",
         "0",
         "1"
        ],
        [
         "3",
         "78",
         "0",
         "1",
         "2",
         "0",
         "6",
         "4.57",
         "2",
         "0",
         "0",
         "1",
         "2",
         "1",
         "1"
        ],
        [
         "4",
         "38",
         "1",
         "0",
         "7",
         "2",
         "5",
         "13.86",
         "0",
         "1",
         "1",
         "0",
         "2",
         "1",
         "1"
        ]
       ],
       "shape": {
        "columns": 14,
        "rows": 5
       }
      },
      "text/html": [
       "<div>\n",
       "<style scoped>\n",
       "    .dataframe tbody tr th:only-of-type {\n",
       "        vertical-align: middle;\n",
       "    }\n",
       "\n",
       "    .dataframe tbody tr th {\n",
       "        vertical-align: top;\n",
       "    }\n",
       "\n",
       "    .dataframe thead th {\n",
       "        text-align: right;\n",
       "    }\n",
       "</style>\n",
       "<table border=\"1\" class=\"dataframe\">\n",
       "  <thead>\n",
       "    <tr style=\"text-align: right;\">\n",
       "      <th></th>\n",
       "      <th>Age</th>\n",
       "      <th>Gender</th>\n",
       "      <th>Chest_Pain</th>\n",
       "      <th>Cough_Severity</th>\n",
       "      <th>Breathlessness</th>\n",
       "      <th>Fatigue</th>\n",
       "      <th>Weight_Loss</th>\n",
       "      <th>Fever</th>\n",
       "      <th>Night_Sweats</th>\n",
       "      <th>Sputum_Production</th>\n",
       "      <th>Blood_in_Sputum</th>\n",
       "      <th>Smoking_History</th>\n",
       "      <th>Previous_TB_History</th>\n",
       "      <th>Class</th>\n",
       "    </tr>\n",
       "  </thead>\n",
       "  <tbody>\n",
       "    <tr>\n",
       "      <th>0</th>\n",
       "      <td>69</td>\n",
       "      <td>1</td>\n",
       "      <td>1</td>\n",
       "      <td>1</td>\n",
       "      <td>2</td>\n",
       "      <td>3</td>\n",
       "      <td>2.37</td>\n",
       "      <td>2</td>\n",
       "      <td>1</td>\n",
       "      <td>2</td>\n",
       "      <td>1</td>\n",
       "      <td>1</td>\n",
       "      <td>1</td>\n",
       "      <td>0</td>\n",
       "    </tr>\n",
       "    <tr>\n",
       "      <th>1</th>\n",
       "      <td>32</td>\n",
       "      <td>0</td>\n",
       "      <td>1</td>\n",
       "      <td>3</td>\n",
       "      <td>0</td>\n",
       "      <td>9</td>\n",
       "      <td>6.09</td>\n",
       "      <td>2</td>\n",
       "      <td>0</td>\n",
       "      <td>2</td>\n",
       "      <td>0</td>\n",
       "      <td>0</td>\n",
       "      <td>1</td>\n",
       "      <td>0</td>\n",
       "    </tr>\n",
       "    <tr>\n",
       "      <th>2</th>\n",
       "      <td>89</td>\n",
       "      <td>1</td>\n",
       "      <td>0</td>\n",
       "      <td>7</td>\n",
       "      <td>0</td>\n",
       "      <td>3</td>\n",
       "      <td>2.86</td>\n",
       "      <td>1</td>\n",
       "      <td>1</td>\n",
       "      <td>2</td>\n",
       "      <td>0</td>\n",
       "      <td>0</td>\n",
       "      <td>0</td>\n",
       "      <td>1</td>\n",
       "    </tr>\n",
       "    <tr>\n",
       "      <th>3</th>\n",
       "      <td>78</td>\n",
       "      <td>0</td>\n",
       "      <td>1</td>\n",
       "      <td>2</td>\n",
       "      <td>0</td>\n",
       "      <td>6</td>\n",
       "      <td>4.57</td>\n",
       "      <td>2</td>\n",
       "      <td>0</td>\n",
       "      <td>0</td>\n",
       "      <td>1</td>\n",
       "      <td>2</td>\n",
       "      <td>1</td>\n",
       "      <td>1</td>\n",
       "    </tr>\n",
       "    <tr>\n",
       "      <th>4</th>\n",
       "      <td>38</td>\n",
       "      <td>1</td>\n",
       "      <td>0</td>\n",
       "      <td>7</td>\n",
       "      <td>2</td>\n",
       "      <td>5</td>\n",
       "      <td>13.86</td>\n",
       "      <td>0</td>\n",
       "      <td>1</td>\n",
       "      <td>1</td>\n",
       "      <td>0</td>\n",
       "      <td>2</td>\n",
       "      <td>1</td>\n",
       "      <td>1</td>\n",
       "    </tr>\n",
       "  </tbody>\n",
       "</table>\n",
       "</div>"
      ],
      "text/plain": [
       "   Age  Gender  Chest_Pain  Cough_Severity  Breathlessness  Fatigue  \\\n",
       "0   69       1           1               1               2        3   \n",
       "1   32       0           1               3               0        9   \n",
       "2   89       1           0               7               0        3   \n",
       "3   78       0           1               2               0        6   \n",
       "4   38       1           0               7               2        5   \n",
       "\n",
       "   Weight_Loss  Fever  Night_Sweats  Sputum_Production  Blood_in_Sputum  \\\n",
       "0         2.37      2             1                  2                1   \n",
       "1         6.09      2             0                  2                0   \n",
       "2         2.86      1             1                  2                0   \n",
       "3         4.57      2             0                  0                1   \n",
       "4        13.86      0             1                  1                0   \n",
       "\n",
       "   Smoking_History  Previous_TB_History  Class  \n",
       "0                1                    1      0  \n",
       "1                0                    1      0  \n",
       "2                0                    0      1  \n",
       "3                2                    1      1  \n",
       "4                2                    1      1  "
      ]
     },
     "execution_count": 19,
     "metadata": {},
     "output_type": "execute_result"
    }
   ],
   "source": [
    "df_v1.head()"
   ]
  },
  {
   "cell_type": "markdown",
   "id": "871c6651",
   "metadata": {},
   "source": [
    "- #### One Hot Encoding"
   ]
  },
  {
   "cell_type": "code",
   "execution_count": 22,
   "id": "cdbf90e3",
   "metadata": {},
   "outputs": [],
   "source": [
    "df_v2 = df.copy()"
   ]
  },
  {
   "cell_type": "code",
   "execution_count": null,
   "id": "698d9d47",
   "metadata": {},
   "outputs": [],
   "source": [
    "def one_hot_encoding(df, categorical_cols):\n",
    "    for col in categorical_cols:\n",
    "        dummies = pd.get_dummies(df[col], prefix=col).astype(int)\n",
    "        col_index = df.columns.get_loc(col) + 1\n",
    "        for dummy_col in reversed(dummies.columns):\n",
    "            df.insert(col_index, dummy_col, dummies[dummy_col])\n",
    "        df.drop(col, axis=1, inplace=True)\n",
    "    return df"
   ]
  },
  {
   "cell_type": "code",
   "execution_count": 23,
   "id": "2cd9b73b",
   "metadata": {},
   "outputs": [],
   "source": [
    "df_v2 = one_hot_encoding(df_v2, categorical_cols)"
   ]
  },
  {
   "cell_type": "code",
   "execution_count": 24,
   "id": "eaf64652",
   "metadata": {},
   "outputs": [
    {
     "data": {
      "application/vnd.microsoft.datawrangler.viewer.v0+json": {
       "columns": [
        {
         "name": "index",
         "rawType": "int64",
         "type": "integer"
        },
        {
         "name": "Age",
         "rawType": "int64",
         "type": "integer"
        },
        {
         "name": "Gender_Female",
         "rawType": "int64",
         "type": "integer"
        },
        {
         "name": "Gender_Male",
         "rawType": "int64",
         "type": "integer"
        },
        {
         "name": "Chest_Pain_No",
         "rawType": "int64",
         "type": "integer"
        },
        {
         "name": "Chest_Pain_Yes",
         "rawType": "int64",
         "type": "integer"
        },
        {
         "name": "Cough_Severity",
         "rawType": "int64",
         "type": "integer"
        },
        {
         "name": "Breathlessness",
         "rawType": "int64",
         "type": "integer"
        },
        {
         "name": "Fatigue",
         "rawType": "int64",
         "type": "integer"
        },
        {
         "name": "Weight_Loss",
         "rawType": "float64",
         "type": "float"
        },
        {
         "name": "Fever_High",
         "rawType": "int64",
         "type": "integer"
        },
        {
         "name": "Fever_Mild",
         "rawType": "int64",
         "type": "integer"
        },
        {
         "name": "Fever_Moderate",
         "rawType": "int64",
         "type": "integer"
        },
        {
         "name": "Night_Sweats_No",
         "rawType": "int64",
         "type": "integer"
        },
        {
         "name": "Night_Sweats_Yes",
         "rawType": "int64",
         "type": "integer"
        },
        {
         "name": "Sputum_Production_High",
         "rawType": "int64",
         "type": "integer"
        },
        {
         "name": "Sputum_Production_Low",
         "rawType": "int64",
         "type": "integer"
        },
        {
         "name": "Sputum_Production_Medium",
         "rawType": "int64",
         "type": "integer"
        },
        {
         "name": "Blood_in_Sputum_No",
         "rawType": "int64",
         "type": "integer"
        },
        {
         "name": "Blood_in_Sputum_Yes",
         "rawType": "int64",
         "type": "integer"
        },
        {
         "name": "Smoking_History_Current",
         "rawType": "int64",
         "type": "integer"
        },
        {
         "name": "Smoking_History_Former",
         "rawType": "int64",
         "type": "integer"
        },
        {
         "name": "Smoking_History_Never",
         "rawType": "int64",
         "type": "integer"
        },
        {
         "name": "Previous_TB_History_No",
         "rawType": "int64",
         "type": "integer"
        },
        {
         "name": "Previous_TB_History_Yes",
         "rawType": "int64",
         "type": "integer"
        },
        {
         "name": "Class_Normal",
         "rawType": "int64",
         "type": "integer"
        },
        {
         "name": "Class_Tuberculosis",
         "rawType": "int64",
         "type": "integer"
        }
       ],
       "conversionMethod": "pd.DataFrame",
       "ref": "2a8c05d4-a5f2-410d-b65a-4c4feac7d419",
       "rows": [
        [
         "0",
         "69",
         "0",
         "1",
         "0",
         "1",
         "1",
         "2",
         "3",
         "2.37",
         "0",
         "0",
         "1",
         "0",
         "1",
         "0",
         "0",
         "1",
         "0",
         "1",
         "0",
         "1",
         "0",
         "0",
         "1",
         "1",
         "0"
        ],
        [
         "1",
         "32",
         "1",
         "0",
         "0",
         "1",
         "3",
         "0",
         "9",
         "6.09",
         "0",
         "0",
         "1",
         "1",
         "0",
         "0",
         "0",
         "1",
         "1",
         "0",
         "1",
         "0",
         "0",
         "0",
         "1",
         "1",
         "0"
        ],
        [
         "2",
         "89",
         "0",
         "1",
         "1",
         "0",
         "7",
         "0",
         "3",
         "2.86",
         "0",
         "1",
         "0",
         "0",
         "1",
         "0",
         "0",
         "1",
         "1",
         "0",
         "1",
         "0",
         "0",
         "1",
         "0",
         "0",
         "1"
        ],
        [
         "3",
         "78",
         "1",
         "0",
         "0",
         "1",
         "2",
         "0",
         "6",
         "4.57",
         "0",
         "0",
         "1",
         "1",
         "0",
         "1",
         "0",
         "0",
         "0",
         "1",
         "0",
         "0",
         "1",
         "0",
         "1",
         "0",
         "1"
        ],
        [
         "4",
         "38",
         "0",
         "1",
         "1",
         "0",
         "7",
         "2",
         "5",
         "13.86",
         "1",
         "0",
         "0",
         "0",
         "1",
         "0",
         "1",
         "0",
         "1",
         "0",
         "0",
         "0",
         "1",
         "0",
         "1",
         "0",
         "1"
        ]
       ],
       "shape": {
        "columns": 26,
        "rows": 5
       }
      },
      "text/html": [
       "<div>\n",
       "<style scoped>\n",
       "    .dataframe tbody tr th:only-of-type {\n",
       "        vertical-align: middle;\n",
       "    }\n",
       "\n",
       "    .dataframe tbody tr th {\n",
       "        vertical-align: top;\n",
       "    }\n",
       "\n",
       "    .dataframe thead th {\n",
       "        text-align: right;\n",
       "    }\n",
       "</style>\n",
       "<table border=\"1\" class=\"dataframe\">\n",
       "  <thead>\n",
       "    <tr style=\"text-align: right;\">\n",
       "      <th></th>\n",
       "      <th>Age</th>\n",
       "      <th>Gender_Female</th>\n",
       "      <th>Gender_Male</th>\n",
       "      <th>Chest_Pain_No</th>\n",
       "      <th>Chest_Pain_Yes</th>\n",
       "      <th>Cough_Severity</th>\n",
       "      <th>Breathlessness</th>\n",
       "      <th>Fatigue</th>\n",
       "      <th>Weight_Loss</th>\n",
       "      <th>Fever_High</th>\n",
       "      <th>...</th>\n",
       "      <th>Sputum_Production_Medium</th>\n",
       "      <th>Blood_in_Sputum_No</th>\n",
       "      <th>Blood_in_Sputum_Yes</th>\n",
       "      <th>Smoking_History_Current</th>\n",
       "      <th>Smoking_History_Former</th>\n",
       "      <th>Smoking_History_Never</th>\n",
       "      <th>Previous_TB_History_No</th>\n",
       "      <th>Previous_TB_History_Yes</th>\n",
       "      <th>Class_Normal</th>\n",
       "      <th>Class_Tuberculosis</th>\n",
       "    </tr>\n",
       "  </thead>\n",
       "  <tbody>\n",
       "    <tr>\n",
       "      <th>0</th>\n",
       "      <td>69</td>\n",
       "      <td>0</td>\n",
       "      <td>1</td>\n",
       "      <td>0</td>\n",
       "      <td>1</td>\n",
       "      <td>1</td>\n",
       "      <td>2</td>\n",
       "      <td>3</td>\n",
       "      <td>2.37</td>\n",
       "      <td>0</td>\n",
       "      <td>...</td>\n",
       "      <td>1</td>\n",
       "      <td>0</td>\n",
       "      <td>1</td>\n",
       "      <td>0</td>\n",
       "      <td>1</td>\n",
       "      <td>0</td>\n",
       "      <td>0</td>\n",
       "      <td>1</td>\n",
       "      <td>1</td>\n",
       "      <td>0</td>\n",
       "    </tr>\n",
       "    <tr>\n",
       "      <th>1</th>\n",
       "      <td>32</td>\n",
       "      <td>1</td>\n",
       "      <td>0</td>\n",
       "      <td>0</td>\n",
       "      <td>1</td>\n",
       "      <td>3</td>\n",
       "      <td>0</td>\n",
       "      <td>9</td>\n",
       "      <td>6.09</td>\n",
       "      <td>0</td>\n",
       "      <td>...</td>\n",
       "      <td>1</td>\n",
       "      <td>1</td>\n",
       "      <td>0</td>\n",
       "      <td>1</td>\n",
       "      <td>0</td>\n",
       "      <td>0</td>\n",
       "      <td>0</td>\n",
       "      <td>1</td>\n",
       "      <td>1</td>\n",
       "      <td>0</td>\n",
       "    </tr>\n",
       "    <tr>\n",
       "      <th>2</th>\n",
       "      <td>89</td>\n",
       "      <td>0</td>\n",
       "      <td>1</td>\n",
       "      <td>1</td>\n",
       "      <td>0</td>\n",
       "      <td>7</td>\n",
       "      <td>0</td>\n",
       "      <td>3</td>\n",
       "      <td>2.86</td>\n",
       "      <td>0</td>\n",
       "      <td>...</td>\n",
       "      <td>1</td>\n",
       "      <td>1</td>\n",
       "      <td>0</td>\n",
       "      <td>1</td>\n",
       "      <td>0</td>\n",
       "      <td>0</td>\n",
       "      <td>1</td>\n",
       "      <td>0</td>\n",
       "      <td>0</td>\n",
       "      <td>1</td>\n",
       "    </tr>\n",
       "    <tr>\n",
       "      <th>3</th>\n",
       "      <td>78</td>\n",
       "      <td>1</td>\n",
       "      <td>0</td>\n",
       "      <td>0</td>\n",
       "      <td>1</td>\n",
       "      <td>2</td>\n",
       "      <td>0</td>\n",
       "      <td>6</td>\n",
       "      <td>4.57</td>\n",
       "      <td>0</td>\n",
       "      <td>...</td>\n",
       "      <td>0</td>\n",
       "      <td>0</td>\n",
       "      <td>1</td>\n",
       "      <td>0</td>\n",
       "      <td>0</td>\n",
       "      <td>1</td>\n",
       "      <td>0</td>\n",
       "      <td>1</td>\n",
       "      <td>0</td>\n",
       "      <td>1</td>\n",
       "    </tr>\n",
       "    <tr>\n",
       "      <th>4</th>\n",
       "      <td>38</td>\n",
       "      <td>0</td>\n",
       "      <td>1</td>\n",
       "      <td>1</td>\n",
       "      <td>0</td>\n",
       "      <td>7</td>\n",
       "      <td>2</td>\n",
       "      <td>5</td>\n",
       "      <td>13.86</td>\n",
       "      <td>1</td>\n",
       "      <td>...</td>\n",
       "      <td>0</td>\n",
       "      <td>1</td>\n",
       "      <td>0</td>\n",
       "      <td>0</td>\n",
       "      <td>0</td>\n",
       "      <td>1</td>\n",
       "      <td>0</td>\n",
       "      <td>1</td>\n",
       "      <td>0</td>\n",
       "      <td>1</td>\n",
       "    </tr>\n",
       "  </tbody>\n",
       "</table>\n",
       "<p>5 rows × 26 columns</p>\n",
       "</div>"
      ],
      "text/plain": [
       "   Age  Gender_Female  Gender_Male  Chest_Pain_No  Chest_Pain_Yes  \\\n",
       "0   69              0            1              0               1   \n",
       "1   32              1            0              0               1   \n",
       "2   89              0            1              1               0   \n",
       "3   78              1            0              0               1   \n",
       "4   38              0            1              1               0   \n",
       "\n",
       "   Cough_Severity  Breathlessness  Fatigue  Weight_Loss  Fever_High  ...  \\\n",
       "0               1               2        3         2.37           0  ...   \n",
       "1               3               0        9         6.09           0  ...   \n",
       "2               7               0        3         2.86           0  ...   \n",
       "3               2               0        6         4.57           0  ...   \n",
       "4               7               2        5        13.86           1  ...   \n",
       "\n",
       "   Sputum_Production_Medium  Blood_in_Sputum_No  Blood_in_Sputum_Yes  \\\n",
       "0                         1                   0                    1   \n",
       "1                         1                   1                    0   \n",
       "2                         1                   1                    0   \n",
       "3                         0                   0                    1   \n",
       "4                         0                   1                    0   \n",
       "\n",
       "   Smoking_History_Current  Smoking_History_Former  Smoking_History_Never  \\\n",
       "0                        0                       1                      0   \n",
       "1                        1                       0                      0   \n",
       "2                        1                       0                      0   \n",
       "3                        0                       0                      1   \n",
       "4                        0                       0                      1   \n",
       "\n",
       "   Previous_TB_History_No  Previous_TB_History_Yes  Class_Normal  \\\n",
       "0                       0                        1             1   \n",
       "1                       0                        1             1   \n",
       "2                       1                        0             0   \n",
       "3                       0                        1             0   \n",
       "4                       0                        1             0   \n",
       "\n",
       "   Class_Tuberculosis  \n",
       "0                   0  \n",
       "1                   0  \n",
       "2                   1  \n",
       "3                   1  \n",
       "4                   1  \n",
       "\n",
       "[5 rows x 26 columns]"
      ]
     },
     "execution_count": 24,
     "metadata": {},
     "output_type": "execute_result"
    }
   ],
   "source": [
    "df_v2.head()"
   ]
  },
  {
   "cell_type": "markdown",
   "id": "3564cbce",
   "metadata": {},
   "source": [
    "- #### Label Encoding + MinMax Scaler"
   ]
  },
  {
   "cell_type": "code",
   "execution_count": 25,
   "id": "37110e10",
   "metadata": {},
   "outputs": [],
   "source": [
    "df_v3 = df_v1.copy()"
   ]
  },
  {
   "cell_type": "code",
   "execution_count": 27,
   "id": "c89aa345",
   "metadata": {},
   "outputs": [],
   "source": [
    "for i in cols_to_scale:\n",
    "    scaler = MinMaxScaler()\n",
    "    df_v3[i] = scaler.fit_transform(df_v3[[i]])"
   ]
  },
  {
   "cell_type": "code",
   "execution_count": 28,
   "id": "b58d449c",
   "metadata": {},
   "outputs": [
    {
     "data": {
      "application/vnd.microsoft.datawrangler.viewer.v0+json": {
       "columns": [
        {
         "name": "index",
         "rawType": "int64",
         "type": "integer"
        },
        {
         "name": "Age",
         "rawType": "float64",
         "type": "float"
        },
        {
         "name": "Gender",
         "rawType": "int64",
         "type": "integer"
        },
        {
         "name": "Chest_Pain",
         "rawType": "int64",
         "type": "integer"
        },
        {
         "name": "Cough_Severity",
         "rawType": "float64",
         "type": "float"
        },
        {
         "name": "Breathlessness",
         "rawType": "float64",
         "type": "float"
        },
        {
         "name": "Fatigue",
         "rawType": "float64",
         "type": "float"
        },
        {
         "name": "Weight_Loss",
         "rawType": "float64",
         "type": "float"
        },
        {
         "name": "Fever",
         "rawType": "int64",
         "type": "integer"
        },
        {
         "name": "Night_Sweats",
         "rawType": "int64",
         "type": "integer"
        },
        {
         "name": "Sputum_Production",
         "rawType": "int64",
         "type": "integer"
        },
        {
         "name": "Blood_in_Sputum",
         "rawType": "int64",
         "type": "integer"
        },
        {
         "name": "Smoking_History",
         "rawType": "int64",
         "type": "integer"
        },
        {
         "name": "Previous_TB_History",
         "rawType": "int64",
         "type": "integer"
        },
        {
         "name": "Class",
         "rawType": "int64",
         "type": "integer"
        }
       ],
       "conversionMethod": "pd.DataFrame",
       "ref": "f46f548a-0b32-4f70-8c2f-84857f1c90e6",
       "rows": [
        [
         "0",
         "0.7183098591549296",
         "1",
         "1",
         "0.1111111111111111",
         "0.5",
         "0.3333333333333333",
         "0.158",
         "2",
         "1",
         "2",
         "1",
         "1",
         "1",
         "0"
        ],
        [
         "1",
         "0.1971830985915493",
         "0",
         "1",
         "0.3333333333333333",
         "0.0",
         "1.0",
         "0.40599999999999997",
         "2",
         "0",
         "2",
         "0",
         "0",
         "1",
         "0"
        ],
        [
         "2",
         "1.0",
         "1",
         "0",
         "0.7777777777777777",
         "0.0",
         "0.3333333333333333",
         "0.19066666666666665",
         "1",
         "1",
         "2",
         "0",
         "0",
         "0",
         "1"
        ],
        [
         "3",
         "0.8450704225352114",
         "0",
         "1",
         "0.2222222222222222",
         "0.0",
         "0.6666666666666666",
         "0.3046666666666667",
         "2",
         "0",
         "0",
         "1",
         "2",
         "1",
         "1"
        ],
        [
         "4",
         "0.2816901408450705",
         "1",
         "0",
         "0.7777777777777777",
         "0.5",
         "0.5555555555555556",
         "0.9239999999999999",
         "0",
         "1",
         "1",
         "0",
         "2",
         "1",
         "1"
        ]
       ],
       "shape": {
        "columns": 14,
        "rows": 5
       }
      },
      "text/html": [
       "<div>\n",
       "<style scoped>\n",
       "    .dataframe tbody tr th:only-of-type {\n",
       "        vertical-align: middle;\n",
       "    }\n",
       "\n",
       "    .dataframe tbody tr th {\n",
       "        vertical-align: top;\n",
       "    }\n",
       "\n",
       "    .dataframe thead th {\n",
       "        text-align: right;\n",
       "    }\n",
       "</style>\n",
       "<table border=\"1\" class=\"dataframe\">\n",
       "  <thead>\n",
       "    <tr style=\"text-align: right;\">\n",
       "      <th></th>\n",
       "      <th>Age</th>\n",
       "      <th>Gender</th>\n",
       "      <th>Chest_Pain</th>\n",
       "      <th>Cough_Severity</th>\n",
       "      <th>Breathlessness</th>\n",
       "      <th>Fatigue</th>\n",
       "      <th>Weight_Loss</th>\n",
       "      <th>Fever</th>\n",
       "      <th>Night_Sweats</th>\n",
       "      <th>Sputum_Production</th>\n",
       "      <th>Blood_in_Sputum</th>\n",
       "      <th>Smoking_History</th>\n",
       "      <th>Previous_TB_History</th>\n",
       "      <th>Class</th>\n",
       "    </tr>\n",
       "  </thead>\n",
       "  <tbody>\n",
       "    <tr>\n",
       "      <th>0</th>\n",
       "      <td>0.718310</td>\n",
       "      <td>1</td>\n",
       "      <td>1</td>\n",
       "      <td>0.111111</td>\n",
       "      <td>0.5</td>\n",
       "      <td>0.333333</td>\n",
       "      <td>0.158000</td>\n",
       "      <td>2</td>\n",
       "      <td>1</td>\n",
       "      <td>2</td>\n",
       "      <td>1</td>\n",
       "      <td>1</td>\n",
       "      <td>1</td>\n",
       "      <td>0</td>\n",
       "    </tr>\n",
       "    <tr>\n",
       "      <th>1</th>\n",
       "      <td>0.197183</td>\n",
       "      <td>0</td>\n",
       "      <td>1</td>\n",
       "      <td>0.333333</td>\n",
       "      <td>0.0</td>\n",
       "      <td>1.000000</td>\n",
       "      <td>0.406000</td>\n",
       "      <td>2</td>\n",
       "      <td>0</td>\n",
       "      <td>2</td>\n",
       "      <td>0</td>\n",
       "      <td>0</td>\n",
       "      <td>1</td>\n",
       "      <td>0</td>\n",
       "    </tr>\n",
       "    <tr>\n",
       "      <th>2</th>\n",
       "      <td>1.000000</td>\n",
       "      <td>1</td>\n",
       "      <td>0</td>\n",
       "      <td>0.777778</td>\n",
       "      <td>0.0</td>\n",
       "      <td>0.333333</td>\n",
       "      <td>0.190667</td>\n",
       "      <td>1</td>\n",
       "      <td>1</td>\n",
       "      <td>2</td>\n",
       "      <td>0</td>\n",
       "      <td>0</td>\n",
       "      <td>0</td>\n",
       "      <td>1</td>\n",
       "    </tr>\n",
       "    <tr>\n",
       "      <th>3</th>\n",
       "      <td>0.845070</td>\n",
       "      <td>0</td>\n",
       "      <td>1</td>\n",
       "      <td>0.222222</td>\n",
       "      <td>0.0</td>\n",
       "      <td>0.666667</td>\n",
       "      <td>0.304667</td>\n",
       "      <td>2</td>\n",
       "      <td>0</td>\n",
       "      <td>0</td>\n",
       "      <td>1</td>\n",
       "      <td>2</td>\n",
       "      <td>1</td>\n",
       "      <td>1</td>\n",
       "    </tr>\n",
       "    <tr>\n",
       "      <th>4</th>\n",
       "      <td>0.281690</td>\n",
       "      <td>1</td>\n",
       "      <td>0</td>\n",
       "      <td>0.777778</td>\n",
       "      <td>0.5</td>\n",
       "      <td>0.555556</td>\n",
       "      <td>0.924000</td>\n",
       "      <td>0</td>\n",
       "      <td>1</td>\n",
       "      <td>1</td>\n",
       "      <td>0</td>\n",
       "      <td>2</td>\n",
       "      <td>1</td>\n",
       "      <td>1</td>\n",
       "    </tr>\n",
       "  </tbody>\n",
       "</table>\n",
       "</div>"
      ],
      "text/plain": [
       "        Age  Gender  Chest_Pain  Cough_Severity  Breathlessness   Fatigue  \\\n",
       "0  0.718310       1           1        0.111111             0.5  0.333333   \n",
       "1  0.197183       0           1        0.333333             0.0  1.000000   \n",
       "2  1.000000       1           0        0.777778             0.0  0.333333   \n",
       "3  0.845070       0           1        0.222222             0.0  0.666667   \n",
       "4  0.281690       1           0        0.777778             0.5  0.555556   \n",
       "\n",
       "   Weight_Loss  Fever  Night_Sweats  Sputum_Production  Blood_in_Sputum  \\\n",
       "0     0.158000      2             1                  2                1   \n",
       "1     0.406000      2             0                  2                0   \n",
       "2     0.190667      1             1                  2                0   \n",
       "3     0.304667      2             0                  0                1   \n",
       "4     0.924000      0             1                  1                0   \n",
       "\n",
       "   Smoking_History  Previous_TB_History  Class  \n",
       "0                1                    1      0  \n",
       "1                0                    1      0  \n",
       "2                0                    0      1  \n",
       "3                2                    1      1  \n",
       "4                2                    1      1  "
      ]
     },
     "execution_count": 28,
     "metadata": {},
     "output_type": "execute_result"
    }
   ],
   "source": [
    "df_v3.head()"
   ]
  },
  {
   "cell_type": "markdown",
   "id": "6ae973c1",
   "metadata": {},
   "source": [
    "- #### Label Encoding + Standard Scaler"
   ]
  },
  {
   "cell_type": "code",
   "execution_count": 29,
   "id": "ec498100",
   "metadata": {},
   "outputs": [],
   "source": [
    "df_v4 = df_v1.copy()"
   ]
  },
  {
   "cell_type": "code",
   "execution_count": 30,
   "id": "506b59a0",
   "metadata": {},
   "outputs": [],
   "source": [
    "for i in cols_to_scale:\n",
    "    scaler = StandardScaler()\n",
    "    df_v4[i] = scaler.fit_transform(df_v4[[i]])"
   ]
  },
  {
   "cell_type": "code",
   "execution_count": 31,
   "id": "a46b18d7",
   "metadata": {},
   "outputs": [
    {
     "data": {
      "application/vnd.microsoft.datawrangler.viewer.v0+json": {
       "columns": [
        {
         "name": "index",
         "rawType": "int64",
         "type": "integer"
        },
        {
         "name": "Age",
         "rawType": "float64",
         "type": "float"
        },
        {
         "name": "Gender",
         "rawType": "int64",
         "type": "integer"
        },
        {
         "name": "Chest_Pain",
         "rawType": "int64",
         "type": "integer"
        },
        {
         "name": "Cough_Severity",
         "rawType": "float64",
         "type": "float"
        },
        {
         "name": "Breathlessness",
         "rawType": "float64",
         "type": "float"
        },
        {
         "name": "Fatigue",
         "rawType": "float64",
         "type": "float"
        },
        {
         "name": "Weight_Loss",
         "rawType": "float64",
         "type": "float"
        },
        {
         "name": "Fever",
         "rawType": "int64",
         "type": "integer"
        },
        {
         "name": "Night_Sweats",
         "rawType": "int64",
         "type": "integer"
        },
        {
         "name": "Sputum_Production",
         "rawType": "int64",
         "type": "integer"
        },
        {
         "name": "Blood_in_Sputum",
         "rawType": "int64",
         "type": "integer"
        },
        {
         "name": "Smoking_History",
         "rawType": "int64",
         "type": "integer"
        },
        {
         "name": "Previous_TB_History",
         "rawType": "int64",
         "type": "integer"
        },
        {
         "name": "Class",
         "rawType": "int64",
         "type": "integer"
        }
       ],
       "conversionMethod": "pd.DataFrame",
       "ref": "9d33b7c2-aab8-4e50-9a2b-2a933f7c1290",
       "rows": [
        [
         "0",
         "0.7477110889749291",
         "1",
         "1",
         "-1.2187697688403585",
         "-0.0024345702310858254",
         "-0.523498290466549",
         "-1.1717896418344789",
         "2",
         "1",
         "2",
         "1",
         "1",
         "1",
         "0"
        ],
        [
         "1",
         "-1.033407290948031",
         "0",
         "1",
         "-0.5206044351783891",
         "-1.4137796317301343",
         "1.5587647893831607",
         "-0.31459848637623805",
         "2",
         "0",
         "2",
         "0",
         "0",
         "1",
         "0"
        ],
        [
         "2",
         "1.7104777808251779",
         "1",
         "0",
         "0.87572623214555",
         "-1.4137796317301343",
         "-0.523498290466549",
         "-1.0588800541531516",
         "1",
         "1",
         "2",
         "0",
         "0",
         "0",
         "1"
        ],
        [
         "3",
         "1.180956100307541",
         "0",
         "1",
         "-0.8696871020093738",
         "-1.4137796317301343",
         "0.5176332494583058",
         "-0.6648486359183149",
         "2",
         "0",
         "0",
         "1",
         "2",
         "1",
         "1"
        ],
        [
         "4",
         "-0.7445772833929565",
         "1",
         "0",
         "0.87572623214555",
         "-0.0024345702310858254",
         "0.1705894028166875",
         "1.4758249754276682",
         "0",
         "1",
         "1",
         "0",
         "2",
         "1",
         "1"
        ]
       ],
       "shape": {
        "columns": 14,
        "rows": 5
       }
      },
      "text/html": [
       "<div>\n",
       "<style scoped>\n",
       "    .dataframe tbody tr th:only-of-type {\n",
       "        vertical-align: middle;\n",
       "    }\n",
       "\n",
       "    .dataframe tbody tr th {\n",
       "        vertical-align: top;\n",
       "    }\n",
       "\n",
       "    .dataframe thead th {\n",
       "        text-align: right;\n",
       "    }\n",
       "</style>\n",
       "<table border=\"1\" class=\"dataframe\">\n",
       "  <thead>\n",
       "    <tr style=\"text-align: right;\">\n",
       "      <th></th>\n",
       "      <th>Age</th>\n",
       "      <th>Gender</th>\n",
       "      <th>Chest_Pain</th>\n",
       "      <th>Cough_Severity</th>\n",
       "      <th>Breathlessness</th>\n",
       "      <th>Fatigue</th>\n",
       "      <th>Weight_Loss</th>\n",
       "      <th>Fever</th>\n",
       "      <th>Night_Sweats</th>\n",
       "      <th>Sputum_Production</th>\n",
       "      <th>Blood_in_Sputum</th>\n",
       "      <th>Smoking_History</th>\n",
       "      <th>Previous_TB_History</th>\n",
       "      <th>Class</th>\n",
       "    </tr>\n",
       "  </thead>\n",
       "  <tbody>\n",
       "    <tr>\n",
       "      <th>0</th>\n",
       "      <td>0.747711</td>\n",
       "      <td>1</td>\n",
       "      <td>1</td>\n",
       "      <td>-1.218770</td>\n",
       "      <td>-0.002435</td>\n",
       "      <td>-0.523498</td>\n",
       "      <td>-1.171790</td>\n",
       "      <td>2</td>\n",
       "      <td>1</td>\n",
       "      <td>2</td>\n",
       "      <td>1</td>\n",
       "      <td>1</td>\n",
       "      <td>1</td>\n",
       "      <td>0</td>\n",
       "    </tr>\n",
       "    <tr>\n",
       "      <th>1</th>\n",
       "      <td>-1.033407</td>\n",
       "      <td>0</td>\n",
       "      <td>1</td>\n",
       "      <td>-0.520604</td>\n",
       "      <td>-1.413780</td>\n",
       "      <td>1.558765</td>\n",
       "      <td>-0.314598</td>\n",
       "      <td>2</td>\n",
       "      <td>0</td>\n",
       "      <td>2</td>\n",
       "      <td>0</td>\n",
       "      <td>0</td>\n",
       "      <td>1</td>\n",
       "      <td>0</td>\n",
       "    </tr>\n",
       "    <tr>\n",
       "      <th>2</th>\n",
       "      <td>1.710478</td>\n",
       "      <td>1</td>\n",
       "      <td>0</td>\n",
       "      <td>0.875726</td>\n",
       "      <td>-1.413780</td>\n",
       "      <td>-0.523498</td>\n",
       "      <td>-1.058880</td>\n",
       "      <td>1</td>\n",
       "      <td>1</td>\n",
       "      <td>2</td>\n",
       "      <td>0</td>\n",
       "      <td>0</td>\n",
       "      <td>0</td>\n",
       "      <td>1</td>\n",
       "    </tr>\n",
       "    <tr>\n",
       "      <th>3</th>\n",
       "      <td>1.180956</td>\n",
       "      <td>0</td>\n",
       "      <td>1</td>\n",
       "      <td>-0.869687</td>\n",
       "      <td>-1.413780</td>\n",
       "      <td>0.517633</td>\n",
       "      <td>-0.664849</td>\n",
       "      <td>2</td>\n",
       "      <td>0</td>\n",
       "      <td>0</td>\n",
       "      <td>1</td>\n",
       "      <td>2</td>\n",
       "      <td>1</td>\n",
       "      <td>1</td>\n",
       "    </tr>\n",
       "    <tr>\n",
       "      <th>4</th>\n",
       "      <td>-0.744577</td>\n",
       "      <td>1</td>\n",
       "      <td>0</td>\n",
       "      <td>0.875726</td>\n",
       "      <td>-0.002435</td>\n",
       "      <td>0.170589</td>\n",
       "      <td>1.475825</td>\n",
       "      <td>0</td>\n",
       "      <td>1</td>\n",
       "      <td>1</td>\n",
       "      <td>0</td>\n",
       "      <td>2</td>\n",
       "      <td>1</td>\n",
       "      <td>1</td>\n",
       "    </tr>\n",
       "  </tbody>\n",
       "</table>\n",
       "</div>"
      ],
      "text/plain": [
       "        Age  Gender  Chest_Pain  Cough_Severity  Breathlessness   Fatigue  \\\n",
       "0  0.747711       1           1       -1.218770       -0.002435 -0.523498   \n",
       "1 -1.033407       0           1       -0.520604       -1.413780  1.558765   \n",
       "2  1.710478       1           0        0.875726       -1.413780 -0.523498   \n",
       "3  1.180956       0           1       -0.869687       -1.413780  0.517633   \n",
       "4 -0.744577       1           0        0.875726       -0.002435  0.170589   \n",
       "\n",
       "   Weight_Loss  Fever  Night_Sweats  Sputum_Production  Blood_in_Sputum  \\\n",
       "0    -1.171790      2             1                  2                1   \n",
       "1    -0.314598      2             0                  2                0   \n",
       "2    -1.058880      1             1                  2                0   \n",
       "3    -0.664849      2             0                  0                1   \n",
       "4     1.475825      0             1                  1                0   \n",
       "\n",
       "   Smoking_History  Previous_TB_History  Class  \n",
       "0                1                    1      0  \n",
       "1                0                    1      0  \n",
       "2                0                    0      1  \n",
       "3                2                    1      1  \n",
       "4                2                    1      1  "
      ]
     },
     "execution_count": 31,
     "metadata": {},
     "output_type": "execute_result"
    }
   ],
   "source": [
    "df_v4.head()"
   ]
  },
  {
   "cell_type": "markdown",
   "id": "0bd3c074",
   "metadata": {},
   "source": [
    "- #### One Hot Encoding + MinMax Scaler"
   ]
  },
  {
   "cell_type": "code",
   "execution_count": 32,
   "id": "38300a61",
   "metadata": {},
   "outputs": [],
   "source": [
    "df_v5 = df_v2.copy()"
   ]
  },
  {
   "cell_type": "code",
   "execution_count": 33,
   "id": "d03d5748",
   "metadata": {},
   "outputs": [],
   "source": [
    "for i in cols_to_scale:\n",
    "    scaler = MinMaxScaler()\n",
    "    df_v5[i] = scaler.fit_transform(df_v5[[i]])"
   ]
  },
  {
   "cell_type": "code",
   "execution_count": 34,
   "id": "bde10393",
   "metadata": {},
   "outputs": [
    {
     "data": {
      "application/vnd.microsoft.datawrangler.viewer.v0+json": {
       "columns": [
        {
         "name": "index",
         "rawType": "int64",
         "type": "integer"
        },
        {
         "name": "Age",
         "rawType": "float64",
         "type": "float"
        },
        {
         "name": "Gender_Female",
         "rawType": "int64",
         "type": "integer"
        },
        {
         "name": "Gender_Male",
         "rawType": "int64",
         "type": "integer"
        },
        {
         "name": "Chest_Pain_No",
         "rawType": "int64",
         "type": "integer"
        },
        {
         "name": "Chest_Pain_Yes",
         "rawType": "int64",
         "type": "integer"
        },
        {
         "name": "Cough_Severity",
         "rawType": "float64",
         "type": "float"
        },
        {
         "name": "Breathlessness",
         "rawType": "float64",
         "type": "float"
        },
        {
         "name": "Fatigue",
         "rawType": "float64",
         "type": "float"
        },
        {
         "name": "Weight_Loss",
         "rawType": "float64",
         "type": "float"
        },
        {
         "name": "Fever_High",
         "rawType": "int64",
         "type": "integer"
        },
        {
         "name": "Fever_Mild",
         "rawType": "int64",
         "type": "integer"
        },
        {
         "name": "Fever_Moderate",
         "rawType": "int64",
         "type": "integer"
        },
        {
         "name": "Night_Sweats_No",
         "rawType": "int64",
         "type": "integer"
        },
        {
         "name": "Night_Sweats_Yes",
         "rawType": "int64",
         "type": "integer"
        },
        {
         "name": "Sputum_Production_High",
         "rawType": "int64",
         "type": "integer"
        },
        {
         "name": "Sputum_Production_Low",
         "rawType": "int64",
         "type": "integer"
        },
        {
         "name": "Sputum_Production_Medium",
         "rawType": "int64",
         "type": "integer"
        },
        {
         "name": "Blood_in_Sputum_No",
         "rawType": "int64",
         "type": "integer"
        },
        {
         "name": "Blood_in_Sputum_Yes",
         "rawType": "int64",
         "type": "integer"
        },
        {
         "name": "Smoking_History_Current",
         "rawType": "int64",
         "type": "integer"
        },
        {
         "name": "Smoking_History_Former",
         "rawType": "int64",
         "type": "integer"
        },
        {
         "name": "Smoking_History_Never",
         "rawType": "int64",
         "type": "integer"
        },
        {
         "name": "Previous_TB_History_No",
         "rawType": "int64",
         "type": "integer"
        },
        {
         "name": "Previous_TB_History_Yes",
         "rawType": "int64",
         "type": "integer"
        },
        {
         "name": "Class_Normal",
         "rawType": "int64",
         "type": "integer"
        },
        {
         "name": "Class_Tuberculosis",
         "rawType": "int64",
         "type": "integer"
        }
       ],
       "conversionMethod": "pd.DataFrame",
       "ref": "b6c40cc6-c4e3-4af6-bff5-659515b2f313",
       "rows": [
        [
         "0",
         "0.7183098591549296",
         "0",
         "1",
         "0",
         "1",
         "0.1111111111111111",
         "0.5",
         "0.3333333333333333",
         "0.158",
         "0",
         "0",
         "1",
         "0",
         "1",
         "0",
         "0",
         "1",
         "0",
         "1",
         "0",
         "1",
         "0",
         "0",
         "1",
         "1",
         "0"
        ],
        [
         "1",
         "0.1971830985915493",
         "1",
         "0",
         "0",
         "1",
         "0.3333333333333333",
         "0.0",
         "1.0",
         "0.40599999999999997",
         "0",
         "0",
         "1",
         "1",
         "0",
         "0",
         "0",
         "1",
         "1",
         "0",
         "1",
         "0",
         "0",
         "0",
         "1",
         "1",
         "0"
        ],
        [
         "2",
         "1.0",
         "0",
         "1",
         "1",
         "0",
         "0.7777777777777777",
         "0.0",
         "0.3333333333333333",
         "0.19066666666666665",
         "0",
         "1",
         "0",
         "0",
         "1",
         "0",
         "0",
         "1",
         "1",
         "0",
         "1",
         "0",
         "0",
         "1",
         "0",
         "0",
         "1"
        ],
        [
         "3",
         "0.8450704225352114",
         "1",
         "0",
         "0",
         "1",
         "0.2222222222222222",
         "0.0",
         "0.6666666666666666",
         "0.3046666666666667",
         "0",
         "0",
         "1",
         "1",
         "0",
         "1",
         "0",
         "0",
         "0",
         "1",
         "0",
         "0",
         "1",
         "0",
         "1",
         "0",
         "1"
        ],
        [
         "4",
         "0.2816901408450705",
         "0",
         "1",
         "1",
         "0",
         "0.7777777777777777",
         "0.5",
         "0.5555555555555556",
         "0.9239999999999999",
         "1",
         "0",
         "0",
         "0",
         "1",
         "0",
         "1",
         "0",
         "1",
         "0",
         "0",
         "0",
         "1",
         "0",
         "1",
         "0",
         "1"
        ]
       ],
       "shape": {
        "columns": 26,
        "rows": 5
       }
      },
      "text/html": [
       "<div>\n",
       "<style scoped>\n",
       "    .dataframe tbody tr th:only-of-type {\n",
       "        vertical-align: middle;\n",
       "    }\n",
       "\n",
       "    .dataframe tbody tr th {\n",
       "        vertical-align: top;\n",
       "    }\n",
       "\n",
       "    .dataframe thead th {\n",
       "        text-align: right;\n",
       "    }\n",
       "</style>\n",
       "<table border=\"1\" class=\"dataframe\">\n",
       "  <thead>\n",
       "    <tr style=\"text-align: right;\">\n",
       "      <th></th>\n",
       "      <th>Age</th>\n",
       "      <th>Gender_Female</th>\n",
       "      <th>Gender_Male</th>\n",
       "      <th>Chest_Pain_No</th>\n",
       "      <th>Chest_Pain_Yes</th>\n",
       "      <th>Cough_Severity</th>\n",
       "      <th>Breathlessness</th>\n",
       "      <th>Fatigue</th>\n",
       "      <th>Weight_Loss</th>\n",
       "      <th>Fever_High</th>\n",
       "      <th>...</th>\n",
       "      <th>Sputum_Production_Medium</th>\n",
       "      <th>Blood_in_Sputum_No</th>\n",
       "      <th>Blood_in_Sputum_Yes</th>\n",
       "      <th>Smoking_History_Current</th>\n",
       "      <th>Smoking_History_Former</th>\n",
       "      <th>Smoking_History_Never</th>\n",
       "      <th>Previous_TB_History_No</th>\n",
       "      <th>Previous_TB_History_Yes</th>\n",
       "      <th>Class_Normal</th>\n",
       "      <th>Class_Tuberculosis</th>\n",
       "    </tr>\n",
       "  </thead>\n",
       "  <tbody>\n",
       "    <tr>\n",
       "      <th>0</th>\n",
       "      <td>0.718310</td>\n",
       "      <td>0</td>\n",
       "      <td>1</td>\n",
       "      <td>0</td>\n",
       "      <td>1</td>\n",
       "      <td>0.111111</td>\n",
       "      <td>0.5</td>\n",
       "      <td>0.333333</td>\n",
       "      <td>0.158000</td>\n",
       "      <td>0</td>\n",
       "      <td>...</td>\n",
       "      <td>1</td>\n",
       "      <td>0</td>\n",
       "      <td>1</td>\n",
       "      <td>0</td>\n",
       "      <td>1</td>\n",
       "      <td>0</td>\n",
       "      <td>0</td>\n",
       "      <td>1</td>\n",
       "      <td>1</td>\n",
       "      <td>0</td>\n",
       "    </tr>\n",
       "    <tr>\n",
       "      <th>1</th>\n",
       "      <td>0.197183</td>\n",
       "      <td>1</td>\n",
       "      <td>0</td>\n",
       "      <td>0</td>\n",
       "      <td>1</td>\n",
       "      <td>0.333333</td>\n",
       "      <td>0.0</td>\n",
       "      <td>1.000000</td>\n",
       "      <td>0.406000</td>\n",
       "      <td>0</td>\n",
       "      <td>...</td>\n",
       "      <td>1</td>\n",
       "      <td>1</td>\n",
       "      <td>0</td>\n",
       "      <td>1</td>\n",
       "      <td>0</td>\n",
       "      <td>0</td>\n",
       "      <td>0</td>\n",
       "      <td>1</td>\n",
       "      <td>1</td>\n",
       "      <td>0</td>\n",
       "    </tr>\n",
       "    <tr>\n",
       "      <th>2</th>\n",
       "      <td>1.000000</td>\n",
       "      <td>0</td>\n",
       "      <td>1</td>\n",
       "      <td>1</td>\n",
       "      <td>0</td>\n",
       "      <td>0.777778</td>\n",
       "      <td>0.0</td>\n",
       "      <td>0.333333</td>\n",
       "      <td>0.190667</td>\n",
       "      <td>0</td>\n",
       "      <td>...</td>\n",
       "      <td>1</td>\n",
       "      <td>1</td>\n",
       "      <td>0</td>\n",
       "      <td>1</td>\n",
       "      <td>0</td>\n",
       "      <td>0</td>\n",
       "      <td>1</td>\n",
       "      <td>0</td>\n",
       "      <td>0</td>\n",
       "      <td>1</td>\n",
       "    </tr>\n",
       "    <tr>\n",
       "      <th>3</th>\n",
       "      <td>0.845070</td>\n",
       "      <td>1</td>\n",
       "      <td>0</td>\n",
       "      <td>0</td>\n",
       "      <td>1</td>\n",
       "      <td>0.222222</td>\n",
       "      <td>0.0</td>\n",
       "      <td>0.666667</td>\n",
       "      <td>0.304667</td>\n",
       "      <td>0</td>\n",
       "      <td>...</td>\n",
       "      <td>0</td>\n",
       "      <td>0</td>\n",
       "      <td>1</td>\n",
       "      <td>0</td>\n",
       "      <td>0</td>\n",
       "      <td>1</td>\n",
       "      <td>0</td>\n",
       "      <td>1</td>\n",
       "      <td>0</td>\n",
       "      <td>1</td>\n",
       "    </tr>\n",
       "    <tr>\n",
       "      <th>4</th>\n",
       "      <td>0.281690</td>\n",
       "      <td>0</td>\n",
       "      <td>1</td>\n",
       "      <td>1</td>\n",
       "      <td>0</td>\n",
       "      <td>0.777778</td>\n",
       "      <td>0.5</td>\n",
       "      <td>0.555556</td>\n",
       "      <td>0.924000</td>\n",
       "      <td>1</td>\n",
       "      <td>...</td>\n",
       "      <td>0</td>\n",
       "      <td>1</td>\n",
       "      <td>0</td>\n",
       "      <td>0</td>\n",
       "      <td>0</td>\n",
       "      <td>1</td>\n",
       "      <td>0</td>\n",
       "      <td>1</td>\n",
       "      <td>0</td>\n",
       "      <td>1</td>\n",
       "    </tr>\n",
       "  </tbody>\n",
       "</table>\n",
       "<p>5 rows × 26 columns</p>\n",
       "</div>"
      ],
      "text/plain": [
       "        Age  Gender_Female  Gender_Male  Chest_Pain_No  Chest_Pain_Yes  \\\n",
       "0  0.718310              0            1              0               1   \n",
       "1  0.197183              1            0              0               1   \n",
       "2  1.000000              0            1              1               0   \n",
       "3  0.845070              1            0              0               1   \n",
       "4  0.281690              0            1              1               0   \n",
       "\n",
       "   Cough_Severity  Breathlessness   Fatigue  Weight_Loss  Fever_High  ...  \\\n",
       "0        0.111111             0.5  0.333333     0.158000           0  ...   \n",
       "1        0.333333             0.0  1.000000     0.406000           0  ...   \n",
       "2        0.777778             0.0  0.333333     0.190667           0  ...   \n",
       "3        0.222222             0.0  0.666667     0.304667           0  ...   \n",
       "4        0.777778             0.5  0.555556     0.924000           1  ...   \n",
       "\n",
       "   Sputum_Production_Medium  Blood_in_Sputum_No  Blood_in_Sputum_Yes  \\\n",
       "0                         1                   0                    1   \n",
       "1                         1                   1                    0   \n",
       "2                         1                   1                    0   \n",
       "3                         0                   0                    1   \n",
       "4                         0                   1                    0   \n",
       "\n",
       "   Smoking_History_Current  Smoking_History_Former  Smoking_History_Never  \\\n",
       "0                        0                       1                      0   \n",
       "1                        1                       0                      0   \n",
       "2                        1                       0                      0   \n",
       "3                        0                       0                      1   \n",
       "4                        0                       0                      1   \n",
       "\n",
       "   Previous_TB_History_No  Previous_TB_History_Yes  Class_Normal  \\\n",
       "0                       0                        1             1   \n",
       "1                       0                        1             1   \n",
       "2                       1                        0             0   \n",
       "3                       0                        1             0   \n",
       "4                       0                        1             0   \n",
       "\n",
       "   Class_Tuberculosis  \n",
       "0                   0  \n",
       "1                   0  \n",
       "2                   1  \n",
       "3                   1  \n",
       "4                   1  \n",
       "\n",
       "[5 rows x 26 columns]"
      ]
     },
     "execution_count": 34,
     "metadata": {},
     "output_type": "execute_result"
    }
   ],
   "source": [
    "df_v5.head()"
   ]
  },
  {
   "cell_type": "markdown",
   "id": "0ea5f9b1",
   "metadata": {},
   "source": [
    "- #### One Hot Encoding + Standard Scaler"
   ]
  },
  {
   "cell_type": "code",
   "execution_count": 35,
   "id": "ef174a8d",
   "metadata": {},
   "outputs": [],
   "source": [
    "df_v6 = df_v2.copy()"
   ]
  },
  {
   "cell_type": "code",
   "execution_count": 36,
   "id": "ea45ef47",
   "metadata": {},
   "outputs": [],
   "source": [
    "for i in cols_to_scale:\n",
    "    scaler = StandardScaler()\n",
    "    df_v6[i] = scaler.fit_transform(df_v6[[i]])"
   ]
  },
  {
   "cell_type": "code",
   "execution_count": 37,
   "id": "f28d75dd",
   "metadata": {},
   "outputs": [
    {
     "data": {
      "application/vnd.microsoft.datawrangler.viewer.v0+json": {
       "columns": [
        {
         "name": "index",
         "rawType": "int64",
         "type": "integer"
        },
        {
         "name": "Age",
         "rawType": "float64",
         "type": "float"
        },
        {
         "name": "Gender_Female",
         "rawType": "int64",
         "type": "integer"
        },
        {
         "name": "Gender_Male",
         "rawType": "int64",
         "type": "integer"
        },
        {
         "name": "Chest_Pain_No",
         "rawType": "int64",
         "type": "integer"
        },
        {
         "name": "Chest_Pain_Yes",
         "rawType": "int64",
         "type": "integer"
        },
        {
         "name": "Cough_Severity",
         "rawType": "float64",
         "type": "float"
        },
        {
         "name": "Breathlessness",
         "rawType": "float64",
         "type": "float"
        },
        {
         "name": "Fatigue",
         "rawType": "float64",
         "type": "float"
        },
        {
         "name": "Weight_Loss",
         "rawType": "float64",
         "type": "float"
        },
        {
         "name": "Fever_High",
         "rawType": "int64",
         "type": "integer"
        },
        {
         "name": "Fever_Mild",
         "rawType": "int64",
         "type": "integer"
        },
        {
         "name": "Fever_Moderate",
         "rawType": "int64",
         "type": "integer"
        },
        {
         "name": "Night_Sweats_No",
         "rawType": "int64",
         "type": "integer"
        },
        {
         "name": "Night_Sweats_Yes",
         "rawType": "int64",
         "type": "integer"
        },
        {
         "name": "Sputum_Production_High",
         "rawType": "int64",
         "type": "integer"
        },
        {
         "name": "Sputum_Production_Low",
         "rawType": "int64",
         "type": "integer"
        },
        {
         "name": "Sputum_Production_Medium",
         "rawType": "int64",
         "type": "integer"
        },
        {
         "name": "Blood_in_Sputum_No",
         "rawType": "int64",
         "type": "integer"
        },
        {
         "name": "Blood_in_Sputum_Yes",
         "rawType": "int64",
         "type": "integer"
        },
        {
         "name": "Smoking_History_Current",
         "rawType": "int64",
         "type": "integer"
        },
        {
         "name": "Smoking_History_Former",
         "rawType": "int64",
         "type": "integer"
        },
        {
         "name": "Smoking_History_Never",
         "rawType": "int64",
         "type": "integer"
        },
        {
         "name": "Previous_TB_History_No",
         "rawType": "int64",
         "type": "integer"
        },
        {
         "name": "Previous_TB_History_Yes",
         "rawType": "int64",
         "type": "integer"
        },
        {
         "name": "Class_Normal",
         "rawType": "int64",
         "type": "integer"
        },
        {
         "name": "Class_Tuberculosis",
         "rawType": "int64",
         "type": "integer"
        }
       ],
       "conversionMethod": "pd.DataFrame",
       "ref": "8615312d-9238-4ff2-b6f3-0ab3850ebf34",
       "rows": [
        [
         "0",
         "0.7477110889749291",
         "0",
         "1",
         "0",
         "1",
         "-1.2187697688403585",
         "-0.0024345702310858254",
         "-0.523498290466549",
         "-1.1717896418344789",
         "0",
         "0",
         "1",
         "0",
         "1",
         "0",
         "0",
         "1",
         "0",
         "1",
         "0",
         "1",
         "0",
         "0",
         "1",
         "1",
         "0"
        ],
        [
         "1",
         "-1.033407290948031",
         "1",
         "0",
         "0",
         "1",
         "-0.5206044351783891",
         "-1.4137796317301343",
         "1.5587647893831607",
         "-0.31459848637623805",
         "0",
         "0",
         "1",
         "1",
         "0",
         "0",
         "0",
         "1",
         "1",
         "0",
         "1",
         "0",
         "0",
         "0",
         "1",
         "1",
         "0"
        ],
        [
         "2",
         "1.7104777808251779",
         "0",
         "1",
         "1",
         "0",
         "0.87572623214555",
         "-1.4137796317301343",
         "-0.523498290466549",
         "-1.0588800541531516",
         "0",
         "1",
         "0",
         "0",
         "1",
         "0",
         "0",
         "1",
         "1",
         "0",
         "1",
         "0",
         "0",
         "1",
         "0",
         "0",
         "1"
        ],
        [
         "3",
         "1.180956100307541",
         "1",
         "0",
         "0",
         "1",
         "-0.8696871020093738",
         "-1.4137796317301343",
         "0.5176332494583058",
         "-0.6648486359183149",
         "0",
         "0",
         "1",
         "1",
         "0",
         "1",
         "0",
         "0",
         "0",
         "1",
         "0",
         "0",
         "1",
         "0",
         "1",
         "0",
         "1"
        ],
        [
         "4",
         "-0.7445772833929565",
         "0",
         "1",
         "1",
         "0",
         "0.87572623214555",
         "-0.0024345702310858254",
         "0.1705894028166875",
         "1.4758249754276682",
         "1",
         "0",
         "0",
         "0",
         "1",
         "0",
         "1",
         "0",
         "1",
         "0",
         "0",
         "0",
         "1",
         "0",
         "1",
         "0",
         "1"
        ]
       ],
       "shape": {
        "columns": 26,
        "rows": 5
       }
      },
      "text/html": [
       "<div>\n",
       "<style scoped>\n",
       "    .dataframe tbody tr th:only-of-type {\n",
       "        vertical-align: middle;\n",
       "    }\n",
       "\n",
       "    .dataframe tbody tr th {\n",
       "        vertical-align: top;\n",
       "    }\n",
       "\n",
       "    .dataframe thead th {\n",
       "        text-align: right;\n",
       "    }\n",
       "</style>\n",
       "<table border=\"1\" class=\"dataframe\">\n",
       "  <thead>\n",
       "    <tr style=\"text-align: right;\">\n",
       "      <th></th>\n",
       "      <th>Age</th>\n",
       "      <th>Gender_Female</th>\n",
       "      <th>Gender_Male</th>\n",
       "      <th>Chest_Pain_No</th>\n",
       "      <th>Chest_Pain_Yes</th>\n",
       "      <th>Cough_Severity</th>\n",
       "      <th>Breathlessness</th>\n",
       "      <th>Fatigue</th>\n",
       "      <th>Weight_Loss</th>\n",
       "      <th>Fever_High</th>\n",
       "      <th>...</th>\n",
       "      <th>Sputum_Production_Medium</th>\n",
       "      <th>Blood_in_Sputum_No</th>\n",
       "      <th>Blood_in_Sputum_Yes</th>\n",
       "      <th>Smoking_History_Current</th>\n",
       "      <th>Smoking_History_Former</th>\n",
       "      <th>Smoking_History_Never</th>\n",
       "      <th>Previous_TB_History_No</th>\n",
       "      <th>Previous_TB_History_Yes</th>\n",
       "      <th>Class_Normal</th>\n",
       "      <th>Class_Tuberculosis</th>\n",
       "    </tr>\n",
       "  </thead>\n",
       "  <tbody>\n",
       "    <tr>\n",
       "      <th>0</th>\n",
       "      <td>0.747711</td>\n",
       "      <td>0</td>\n",
       "      <td>1</td>\n",
       "      <td>0</td>\n",
       "      <td>1</td>\n",
       "      <td>-1.218770</td>\n",
       "      <td>-0.002435</td>\n",
       "      <td>-0.523498</td>\n",
       "      <td>-1.171790</td>\n",
       "      <td>0</td>\n",
       "      <td>...</td>\n",
       "      <td>1</td>\n",
       "      <td>0</td>\n",
       "      <td>1</td>\n",
       "      <td>0</td>\n",
       "      <td>1</td>\n",
       "      <td>0</td>\n",
       "      <td>0</td>\n",
       "      <td>1</td>\n",
       "      <td>1</td>\n",
       "      <td>0</td>\n",
       "    </tr>\n",
       "    <tr>\n",
       "      <th>1</th>\n",
       "      <td>-1.033407</td>\n",
       "      <td>1</td>\n",
       "      <td>0</td>\n",
       "      <td>0</td>\n",
       "      <td>1</td>\n",
       "      <td>-0.520604</td>\n",
       "      <td>-1.413780</td>\n",
       "      <td>1.558765</td>\n",
       "      <td>-0.314598</td>\n",
       "      <td>0</td>\n",
       "      <td>...</td>\n",
       "      <td>1</td>\n",
       "      <td>1</td>\n",
       "      <td>0</td>\n",
       "      <td>1</td>\n",
       "      <td>0</td>\n",
       "      <td>0</td>\n",
       "      <td>0</td>\n",
       "      <td>1</td>\n",
       "      <td>1</td>\n",
       "      <td>0</td>\n",
       "    </tr>\n",
       "    <tr>\n",
       "      <th>2</th>\n",
       "      <td>1.710478</td>\n",
       "      <td>0</td>\n",
       "      <td>1</td>\n",
       "      <td>1</td>\n",
       "      <td>0</td>\n",
       "      <td>0.875726</td>\n",
       "      <td>-1.413780</td>\n",
       "      <td>-0.523498</td>\n",
       "      <td>-1.058880</td>\n",
       "      <td>0</td>\n",
       "      <td>...</td>\n",
       "      <td>1</td>\n",
       "      <td>1</td>\n",
       "      <td>0</td>\n",
       "      <td>1</td>\n",
       "      <td>0</td>\n",
       "      <td>0</td>\n",
       "      <td>1</td>\n",
       "      <td>0</td>\n",
       "      <td>0</td>\n",
       "      <td>1</td>\n",
       "    </tr>\n",
       "    <tr>\n",
       "      <th>3</th>\n",
       "      <td>1.180956</td>\n",
       "      <td>1</td>\n",
       "      <td>0</td>\n",
       "      <td>0</td>\n",
       "      <td>1</td>\n",
       "      <td>-0.869687</td>\n",
       "      <td>-1.413780</td>\n",
       "      <td>0.517633</td>\n",
       "      <td>-0.664849</td>\n",
       "      <td>0</td>\n",
       "      <td>...</td>\n",
       "      <td>0</td>\n",
       "      <td>0</td>\n",
       "      <td>1</td>\n",
       "      <td>0</td>\n",
       "      <td>0</td>\n",
       "      <td>1</td>\n",
       "      <td>0</td>\n",
       "      <td>1</td>\n",
       "      <td>0</td>\n",
       "      <td>1</td>\n",
       "    </tr>\n",
       "    <tr>\n",
       "      <th>4</th>\n",
       "      <td>-0.744577</td>\n",
       "      <td>0</td>\n",
       "      <td>1</td>\n",
       "      <td>1</td>\n",
       "      <td>0</td>\n",
       "      <td>0.875726</td>\n",
       "      <td>-0.002435</td>\n",
       "      <td>0.170589</td>\n",
       "      <td>1.475825</td>\n",
       "      <td>1</td>\n",
       "      <td>...</td>\n",
       "      <td>0</td>\n",
       "      <td>1</td>\n",
       "      <td>0</td>\n",
       "      <td>0</td>\n",
       "      <td>0</td>\n",
       "      <td>1</td>\n",
       "      <td>0</td>\n",
       "      <td>1</td>\n",
       "      <td>0</td>\n",
       "      <td>1</td>\n",
       "    </tr>\n",
       "  </tbody>\n",
       "</table>\n",
       "<p>5 rows × 26 columns</p>\n",
       "</div>"
      ],
      "text/plain": [
       "        Age  Gender_Female  Gender_Male  Chest_Pain_No  Chest_Pain_Yes  \\\n",
       "0  0.747711              0            1              0               1   \n",
       "1 -1.033407              1            0              0               1   \n",
       "2  1.710478              0            1              1               0   \n",
       "3  1.180956              1            0              0               1   \n",
       "4 -0.744577              0            1              1               0   \n",
       "\n",
       "   Cough_Severity  Breathlessness   Fatigue  Weight_Loss  Fever_High  ...  \\\n",
       "0       -1.218770       -0.002435 -0.523498    -1.171790           0  ...   \n",
       "1       -0.520604       -1.413780  1.558765    -0.314598           0  ...   \n",
       "2        0.875726       -1.413780 -0.523498    -1.058880           0  ...   \n",
       "3       -0.869687       -1.413780  0.517633    -0.664849           0  ...   \n",
       "4        0.875726       -0.002435  0.170589     1.475825           1  ...   \n",
       "\n",
       "   Sputum_Production_Medium  Blood_in_Sputum_No  Blood_in_Sputum_Yes  \\\n",
       "0                         1                   0                    1   \n",
       "1                         1                   1                    0   \n",
       "2                         1                   1                    0   \n",
       "3                         0                   0                    1   \n",
       "4                         0                   1                    0   \n",
       "\n",
       "   Smoking_History_Current  Smoking_History_Former  Smoking_History_Never  \\\n",
       "0                        0                       1                      0   \n",
       "1                        1                       0                      0   \n",
       "2                        1                       0                      0   \n",
       "3                        0                       0                      1   \n",
       "4                        0                       0                      1   \n",
       "\n",
       "   Previous_TB_History_No  Previous_TB_History_Yes  Class_Normal  \\\n",
       "0                       0                        1             1   \n",
       "1                       0                        1             1   \n",
       "2                       1                        0             0   \n",
       "3                       0                        1             0   \n",
       "4                       0                        1             0   \n",
       "\n",
       "   Class_Tuberculosis  \n",
       "0                   0  \n",
       "1                   0  \n",
       "2                   1  \n",
       "3                   1  \n",
       "4                   1  \n",
       "\n",
       "[5 rows x 26 columns]"
      ]
     },
     "execution_count": 37,
     "metadata": {},
     "output_type": "execute_result"
    }
   ],
   "source": [
    "df_v6.head()"
   ]
  },
  {
   "cell_type": "markdown",
   "id": "e8e1c213",
   "metadata": {},
   "source": [
    "## Train Test Split"
   ]
  },
  {
   "cell_type": "code",
   "execution_count": 38,
   "id": "b8356164",
   "metadata": {},
   "outputs": [],
   "source": [
    "datasets = {\n",
    "    'df1': df_v1,\n",
    "    'df2': df_v2,\n",
    "    'df3': df_v3,\n",
    "    'df4': df_v4,\n",
    "    'df5': df_v5,\n",
    "    'df6': df_v6\n",
    "}"
   ]
  },
  {
   "cell_type": "code",
   "execution_count": 39,
   "id": "ee589b36",
   "metadata": {},
   "outputs": [],
   "source": [
    "# Dictionary to store train and test splits\n",
    "train_sets = {}\n",
    "test_sets = {}\n",
    "\n",
    "# Perform train-test split separately for each dataset\n",
    "for name, df in datasets.items():\n",
    "    train_df, test_df = train_test_split(df, test_size=0.2, random_state=42)\n",
    "    train_sets[name] = train_df  # Store train set\n",
    "    test_sets[name] = test_df    # Store test set\n",
    "\n",
    "# Access train and test splits\n",
    "df_v1_train = train_sets['df1']\n",
    "df_v1_test = test_sets['df1']\n",
    "\n",
    "df_v2_train = train_sets['df2']\n",
    "df_v2_test = test_sets['df2']\n",
    "\n",
    "df_v3_train = train_sets['df3']\n",
    "df_v3_test = test_sets['df3']\n",
    "\n",
    "df_v4_train = train_sets['df4']\n",
    "df_v4_test = test_sets['df4']\n",
    "\n",
    "df_v5_train = train_sets['df5']\n",
    "df_v5_test = test_sets['df5']\n",
    "\n",
    "df_v6_train = train_sets['df6']\n",
    "df_v6_test = test_sets['df6']"
   ]
  },
  {
   "cell_type": "code",
   "execution_count": 40,
   "id": "e1de0f3d",
   "metadata": {},
   "outputs": [],
   "source": [
    "datasets = [\n",
    "    ['Label encoding', [df_v1_train[df_v1_train.columns[:-1]], df_v1_train[df_v1_train.columns[-1]], df_v1_test[df_v1_test.columns[:-1]], df_v1_test[df_v1_test.columns[-1]]]],\n",
    "    ['One-hot encoding', [df_v2_train[df_v2_train.columns[:-1]], df_v2_train[df_v2_train.columns[-1]], df_v2_test[df_v2_test.columns[:-1]], df_v2_test[df_v2_test.columns[-1]]]],\n",
    "    ['Label encoding + MinMax scaler', [df_v3_train[df_v3_train.columns[:-1]], df_v3_train[df_v3_train.columns[-1]], df_v3_test[df_v3_test.columns[:-1]], df_v3_test[df_v3_test.columns[-1]]]],\n",
    "    ['Label encoding + Standard scaler', [df_v4_train[df_v4_train.columns[:-1]], df_v4_train[df_v4_train.columns[-1]], df_v4_test[df_v4_test.columns[:-1]], df_v4_test[df_v4_test.columns[-1]]]],\n",
    "    ['One-hot encoding + MinMax scaler', [df_v5_train[df_v5_train.columns[:-1]], df_v5_train[df_v5_train.columns[-1]], df_v5_test[df_v5_test.columns[:-1]], df_v5_test[df_v5_test.columns[-1]]]],\n",
    "    ['One-hot encoding + Standard scaler', [df_v6_train[df_v6_train.columns[:-1]], df_v6_train[df_v6_train.columns[-1]], df_v6_test[df_v6_test.columns[:-1]], df_v6_test[df_v6_test.columns[-1]]]]\n",
    "]"
   ]
  }
 ],
 "metadata": {
  "kernelspec": {
   "display_name": "tbc_prediction_venv",
   "language": "python",
   "name": "python3"
  },
  "language_info": {
   "codemirror_mode": {
    "name": "ipython",
    "version": 3
   },
   "file_extension": ".py",
   "mimetype": "text/x-python",
   "name": "python",
   "nbconvert_exporter": "python",
   "pygments_lexer": "ipython3",
   "version": "3.10.11"
  }
 },
 "nbformat": 4,
 "nbformat_minor": 5
}
